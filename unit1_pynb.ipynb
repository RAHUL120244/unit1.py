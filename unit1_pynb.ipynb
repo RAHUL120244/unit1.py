{
  "cells": [
    {
      "cell_type": "markdown",
      "metadata": {
        "id": "view-in-github",
        "colab_type": "text"
      },
      "source": [
        "<a href=\"https://colab.research.google.com/github/RAHUL120244/unit1.py/blob/main/unit1_pynb.ipynb\" target=\"_parent\"><img src=\"https://colab.research.google.com/assets/colab-badge.svg\" alt=\"Open In Colab\"/></a>"
      ]
    },
    {
      "cell_type": "markdown",
      "source": [
        "Q.check if any signal start with a and ends with c."
      ],
      "metadata": {
        "id": "SF2uhIr8xHJc"
      }
    },
    {
      "cell_type": "code",
      "source": [
        "s=[\"abcX\",\"axbyc\",\"a123c\",\"123\"]\n",
        "\n",
        "print(any(i.startswith('a') and i.endswith('c') for i in s))\n",
        "print(all(i.startswith('a') and i.endswith('c') for i in s))\n",
        "print(bool([]))\n",
        "print(bool(\" \"))"
      ],
      "metadata": {
        "colab": {
          "base_uri": "https://localhost:8080/"
        },
        "id": "N3dvyQrDxU71",
        "outputId": "46504c90-d5e1-4d6b-c58b-16b976aea097"
      },
      "execution_count": null,
      "outputs": [
        {
          "output_type": "stream",
          "name": "stdout",
          "text": [
            "True\n",
            "False\n",
            "False\n",
            "True\n"
          ]
        }
      ]
    },
    {
      "cell_type": "markdown",
      "source": [
        "** Boolean data type"
      ],
      "metadata": {
        "id": "ehfsw1NTopxR"
      }
    },
    {
      "cell_type": "code",
      "source": [
        "print(10>4)\n",
        "print(type(True)) #it define class of data type\n",
        "a,b=10,20\n",
        "print(a and b) #and gate\n",
        "print(a or b) #or gate operation\n",
        "print(10>9 and 9>8)\n",
        "print(5>3 or 2>3)\n",
        "print(not 5>3) # not gate\n",
        "print(1 ^ 0) #xor gate operation\n",
        "print(a^b)\n",
        "\n",
        "a=a^b\n",
        "b=a^b\n",
        "a=a^b\n",
        "print(a)\n",
        "print(b)\n",
        "print(bin(a))\n",
        "marks =[60,70,80]\n",
        "print(all(m>=40 for m in marks )) #for all we use all()\n",
        "print(any(m>=90 for m in marks )) #for any we use any()\n",
        "print(all([1,2,3]))\n",
        "print(any([0,0,0,0]))\n"
      ],
      "metadata": {
        "colab": {
          "base_uri": "https://localhost:8080/"
        },
        "id": "X-mDE3jxo2EA",
        "outputId": "c7c07266-f59a-4e47-8005-9f27ff5bb5cf"
      },
      "execution_count": null,
      "outputs": [
        {
          "output_type": "stream",
          "name": "stdout",
          "text": [
            "True\n",
            "<class 'bool'>\n",
            "20\n",
            "10\n",
            "True\n",
            "True\n",
            "False\n",
            "1\n",
            "30\n",
            "20\n",
            "10\n",
            "0b10100\n",
            "True\n",
            "False\n",
            "False\n",
            "False\n"
          ]
        }
      ]
    },
    {
      "cell_type": "markdown",
      "source": [
        "we defined the usage of capitals in a word be right when one of the following cases holdes\n",
        "\n",
        "1.all letters in this words are capitals like USA\n",
        "\n",
        "2.all letters in this word are not capital like leetcode\n",
        "\n",
        "3.only first letter in this word is capital like Google\n",
        "\n",
        ".Given a string word,return true if usage of capitals in it is right e.g.->USA,Output->True\n",
        "\n",
        "input->FlaG,Output->false"
      ],
      "metadata": {
        "id": "AJ7gPDl1EQyI"
      }
    },
    {
      "cell_type": "code",
      "source": [
        "# X=input(\"enter any word\")\n",
        "# a=X.upper()\n",
        "# b=/\n",
        "X=\"USA\"\n",
        "if X.isupper():\n",
        "  print(\"true\")\n",
        "else:\n",
        "    print(\"false\")\n",
        "    #     OR\n",
        "Words=[\"USA\",\"India\",\"Pak\",\"china\"]\n",
        "for i in Words:\n",
        "  if i==i.upper() or i==i.lower() or i==i.title():\n",
        "    print(\"capital hai!\")\n",
        "  else :\n",
        "    print(\"captal nahi hai!\")"
      ],
      "metadata": {
        "colab": {
          "base_uri": "https://localhost:8080/"
        },
        "id": "sGKJAz5BFU8-",
        "outputId": "7b66540c-f537-4fa7-a8c6-f7816eb14e8b"
      },
      "execution_count": null,
      "outputs": [
        {
          "output_type": "stream",
          "name": "stdout",
          "text": [
            "true\n",
            "capital hai!\n",
            "capital hai!\n",
            "capital hai!\n",
            "capital hai!\n"
          ]
        }
      ]
    },
    {
      "cell_type": "markdown",
      "source": [
        "Q.lokii tried to trick avenger ,check if loki is in it .if yes print \"enemy detected\"  ow \"all clear\""
      ],
      "metadata": {
        "id": "oFA_dVivD9mq"
      }
    },
    {
      "cell_type": "code",
      "source": [],
      "metadata": {
        "id": "wgRu0Ya3EP-S"
      },
      "execution_count": null,
      "outputs": []
    },
    {
      "cell_type": "markdown",
      "source": [
        "DIGIT METHOD -->>"
      ],
      "metadata": {
        "id": "uDX9MASzBemf"
      }
    },
    {
      "cell_type": "code",
      "source": [
        "X=\"5080\"\n",
        "print(X.isdigit())\n",
        "a=\"\\u0030\"\n",
        "print(a.isdigit())\n",
        "b=\"\\u0002\" #like powers\n",
        "print(b.isdigit())\n",
        "#check for phase or character is present in string-->> use of in\n",
        "avenger=\"thanos,thor,strange\"\n",
        "print(\"thor\" in avenger)\n",
        "#using if with in keyword\n",
        "if \"thor\" in avenger:\n",
        "  print(\"yes thor is prasent in avenger \")\n",
        "  # not in\n",
        "print(\"hulk\" not in avenger)\n",
        "  #not in with if\n",
        "if \"hulk\" not in avenger:\n",
        "    print(\"not in avenger\")\n",
        "\n"
      ],
      "metadata": {
        "colab": {
          "base_uri": "https://localhost:8080/"
        },
        "id": "nhsZa5NsBid1",
        "outputId": "3f137341-2cf1-46bb-ff3f-3e77c3db7477"
      },
      "execution_count": null,
      "outputs": [
        {
          "output_type": "stream",
          "name": "stdout",
          "text": [
            "True\n",
            "True\n",
            "False\n",
            "True\n"
          ]
        }
      ]
    },
    {
      "cell_type": "markdown",
      "source": [
        "Q.In a digital communication each transmitted signal starts with header and ends with footer, you are given a list of recieved signal signals and a defference signal ref.Write a code to check if any recieved signal had the same header and same footer as ref. signals=[\"hi01f\",\"h202g\",h303f\"]"
      ],
      "metadata": {
        "id": "b1mW0vtX5iuZ"
      }
    },
    {
      "cell_type": "code",
      "source": [],
      "metadata": {
        "id": "qAUlgLvmnznb"
      },
      "execution_count": null,
      "outputs": []
    },
    {
      "cell_type": "markdown",
      "source": [
        "Q.You are given a list of string words and a query Q return true if any word in words start with the same character as Q and ends with the same character as Q. words=[\"leetcode\",\"love\",\"code\",\"lamp\"] Q=[\"life\"]\n"
      ],
      "metadata": {
        "id": "tR618IuQ4miA"
      }
    },
    {
      "cell_type": "code",
      "source": [],
      "metadata": {
        "id": "kZqxjD3bomM3"
      },
      "execution_count": null,
      "outputs": []
    },
    {
      "cell_type": "code",
      "source": [
        "q=[\"leetcode\",\"like\",\"love\"]\n",
        "print(q.startswith(\"l\"))\n",
        "print(q.endswith(\"e\"))\n"
      ],
      "metadata": {
        "colab": {
          "base_uri": "https://localhost:8080/",
          "height": 176
        },
        "id": "tjCmd5ie5Pm2",
        "outputId": "5af03681-a073-4b01-ac47-27631b31e03f"
      },
      "execution_count": null,
      "outputs": [
        {
          "output_type": "error",
          "ename": "AttributeError",
          "evalue": "'list' object has no attribute 'startswith'",
          "traceback": [
            "\u001b[0;31m---------------------------------------------------------------------------\u001b[0m",
            "\u001b[0;31mAttributeError\u001b[0m                            Traceback (most recent call last)",
            "\u001b[0;32m/tmp/ipython-input-269178806.py\u001b[0m in \u001b[0;36m<cell line: 0>\u001b[0;34m()\u001b[0m\n\u001b[1;32m      1\u001b[0m \u001b[0mq\u001b[0m\u001b[0;34m=\u001b[0m\u001b[0;34m[\u001b[0m\u001b[0;34m\"leetcode\"\u001b[0m\u001b[0;34m,\u001b[0m\u001b[0;34m\"like\"\u001b[0m\u001b[0;34m,\u001b[0m\u001b[0;34m\"love\"\u001b[0m\u001b[0;34m]\u001b[0m\u001b[0;34m\u001b[0m\u001b[0;34m\u001b[0m\u001b[0m\n\u001b[0;32m----> 2\u001b[0;31m \u001b[0mprint\u001b[0m\u001b[0;34m(\u001b[0m\u001b[0mq\u001b[0m\u001b[0;34m.\u001b[0m\u001b[0mstartswith\u001b[0m\u001b[0;34m(\u001b[0m\u001b[0;34m\"l\"\u001b[0m\u001b[0;34m)\u001b[0m\u001b[0;34m)\u001b[0m\u001b[0;34m\u001b[0m\u001b[0;34m\u001b[0m\u001b[0m\n\u001b[0m\u001b[1;32m      3\u001b[0m \u001b[0mprint\u001b[0m\u001b[0;34m(\u001b[0m\u001b[0mq\u001b[0m\u001b[0;34m.\u001b[0m\u001b[0mendswith\u001b[0m\u001b[0;34m(\u001b[0m\u001b[0;34m\"e\"\u001b[0m\u001b[0;34m)\u001b[0m\u001b[0;34m)\u001b[0m\u001b[0;34m\u001b[0m\u001b[0;34m\u001b[0m\u001b[0m\n",
            "\u001b[0;31mAttributeError\u001b[0m: 'list' object has no attribute 'startswith'"
          ]
        }
      ]
    },
    {
      "cell_type": "markdown",
      "source": [
        "wap to check the string with either phrase or castle"
      ],
      "metadata": {
        "id": "9svsojIK4DdQ"
      }
    },
    {
      "cell_type": "code",
      "source": [
        "X=\"hello welcome to my  castle\"\n",
        "print(X.endswith(\"castle\"))"
      ],
      "metadata": {
        "id": "9XLmBaVB4OH6"
      },
      "execution_count": null,
      "outputs": []
    },
    {
      "cell_type": "markdown",
      "source": [
        "STARTSWITH / ENDSWITH FUNCTION-->>"
      ],
      "metadata": {
        "id": "pFoqljYs2ty1"
      }
    },
    {
      "cell_type": "code",
      "source": [
        "X=\"hello welcome in my world\"\n",
        "print(X.startswith(\"h\"))\n",
        "print(X.startswith(\"w\",2,30))\n"
      ],
      "metadata": {
        "colab": {
          "base_uri": "https://localhost:8080/"
        },
        "id": "Ya5uAMr_266b",
        "outputId": "4aeec07c-5089-4a1c-f3d2-3f82307e4d64"
      },
      "execution_count": null,
      "outputs": [
        {
          "output_type": "stream",
          "name": "stdout",
          "text": [
            "True\n",
            "False\n"
          ]
        }
      ]
    },
    {
      "cell_type": "markdown",
      "source": [
        "COUNT FUNCTION-->>"
      ],
      "metadata": {
        "id": "6g7jgbNN15u2"
      }
    },
    {
      "cell_type": "code",
      "source": [
        "X=\"hello welcome in my world\"\n",
        "print(X.count(\"e\"))\n",
        "print(X.count(\"e\",1,10))"
      ],
      "metadata": {
        "colab": {
          "base_uri": "https://localhost:8080/"
        },
        "id": "YFr8pwOL19w8",
        "outputId": "1da45e34-f7f4-458c-a620-dc7d316b1a31"
      },
      "execution_count": null,
      "outputs": [
        {
          "output_type": "stream",
          "name": "stdout",
          "text": [
            "3\n",
            "2\n"
          ]
        }
      ]
    },
    {
      "cell_type": "code",
      "source": [
        "X=\"hello welcome in my world\"\n",
        "print(X.find(\"Q\"))\n",
        "print(X.find(\"e\",5,10))\n",
        "#print(X.index(\"Q\")) it gives error"
      ],
      "metadata": {
        "colab": {
          "base_uri": "https://localhost:8080/"
        },
        "id": "N5fe5XrY1INI",
        "outputId": "f2de888c-0bf9-4068-e8bb-a1948c929643"
      },
      "execution_count": null,
      "outputs": [
        {
          "output_type": "stream",
          "name": "stdout",
          "text": [
            "-1\n",
            "7\n"
          ]
        }
      ]
    },
    {
      "cell_type": "markdown",
      "source": [
        "find has 3 parameter -->>\n",
        "\n",
        "1.the value you want to search\n",
        "\n",
        "2.\n",
        "\n",
        "3."
      ],
      "metadata": {
        "id": "xOCHo3ZO0nXd"
      }
    },
    {
      "cell_type": "markdown",
      "source": [
        "SPLIT and JOIN-->>aplication of reaplace ,strip,join,split are same"
      ],
      "metadata": {
        "id": "0g24ZjjawLoS"
      }
    },
    {
      "cell_type": "code",
      "source": [
        "X=\"This is a python programming class:\"\n",
        "token=X.split()\n",
        "print(token)\n",
        "print(\"@\".join(token))\n",
        "print(X.find(\"python\"))  #-->>give the index number it find the first accurance of the spacific value it will return -1 if value is not found.\n",
        "print(X.find(\"python\",2,5))\n",
        "print(X.find(\"i\",2,5))"
      ],
      "metadata": {
        "colab": {
          "base_uri": "https://localhost:8080/"
        },
        "id": "ryoV7GOxwaJe",
        "outputId": "acf57c4d-b2b5-4eef-aeeb-0d4c14f32b19"
      },
      "execution_count": null,
      "outputs": [
        {
          "output_type": "stream",
          "name": "stdout",
          "text": [
            "['This', 'is', 'a', 'python', 'programming', 'class:']\n",
            "This@is@a@python@programming@class:\n",
            "10\n",
            "-1\n",
            "2\n"
          ]
        }
      ]
    },
    {
      "cell_type": "markdown",
      "source": [
        "APPLICATION OF replace and strip-->>\n",
        "\n",
        "1.we can use to remove the white spalaces or special char\n",
        "\n",
        "2.strip fun remove the leading and special char or white splaces whereas replace remove the char can be at any position\n",
        "\n",
        "3.the application of these fun the preproccesing or cleaning the data set AI(nlp)."
      ],
      "metadata": {
        "id": "byKVZfeuvO-W"
      }
    },
    {
      "cell_type": "markdown",
      "source": [
        "in raplace it remove every position character that we want-->>"
      ],
      "metadata": {
        "id": "dgPN6qDAusl2"
      }
    },
    {
      "cell_type": "code",
      "source": [
        "X=\"@ra@hul\"\n",
        "print(X.strip(\"@\"))\n",
        "print(X.replace(\"@\",\"T\"))"
      ],
      "metadata": {
        "id": "RvsDrhlru4GA"
      },
      "execution_count": null,
      "outputs": []
    },
    {
      "cell_type": "markdown",
      "source": [
        "STRIP:--"
      ],
      "metadata": {
        "id": "PPsAbbbswdWo"
      }
    },
    {
      "cell_type": "code",
      "source": [
        "X=\"@rahul\"\n",
        "print(X.strip(\"@\"))\n",
        "print(X.replace(\"@\",\" \"))#-->it add the space and remove the ch"
      ],
      "metadata": {
        "colab": {
          "base_uri": "https://localhost:8080/"
        },
        "id": "fDxn22YpwhH0",
        "outputId": "11f20410-f13c-4fb8-8915-b066c372b621"
      },
      "execution_count": null,
      "outputs": [
        {
          "output_type": "stream",
          "name": "stdout",
          "text": [
            "rahul\n",
            " rahul\n"
          ]
        }
      ]
    },
    {
      "cell_type": "markdown",
      "source": [
        "UPPER AND LOWER CASE :--\n",
        "\n",
        "1.we can use this method in machine learning and deep learning\n",
        "\n",
        "2.the data set be model should be consistent this concept.\n",
        "\n"
      ],
      "metadata": {
        "id": "YnstnPQOvvAp"
      }
    },
    {
      "cell_type": "code",
      "source": [
        "X=\"RAHuL\"\n",
        "print(X.lower())"
      ],
      "metadata": {
        "colab": {
          "base_uri": "https://localhost:8080/"
        },
        "id": "EprxhgAJwQBn",
        "outputId": "ab1c4e07-23a5-4847-e340-fe9bf149375d"
      },
      "execution_count": null,
      "outputs": [
        {
          "output_type": "stream",
          "name": "stdout",
          "text": [
            "rahul\n"
          ]
        }
      ]
    },
    {
      "cell_type": "markdown",
      "source": [
        "Q.reverse a string"
      ],
      "metadata": {
        "id": "M1qRAhYjtTWG"
      }
    },
    {
      "cell_type": "code",
      "source": [
        "name=\"RAHUL\"\n",
        "rev=\" \"\n",
        "for ch in name :\n",
        "  rev=ch+rev\n",
        "print(rev)"
      ],
      "metadata": {
        "colab": {
          "base_uri": "https://localhost:8080/"
        },
        "id": "7zMHFYrdtYIq",
        "outputId": "3b5b73a4-01ed-4de0-f46f-65b640f10d74"
      },
      "execution_count": null,
      "outputs": [
        {
          "output_type": "stream",
          "name": "stdout",
          "text": [
            "LUHAR \n"
          ]
        }
      ]
    },
    {
      "cell_type": "code",
      "source": [
        "a=\"rahul\"\n",
        "rev=\" \"\n",
        "rev=a[ ::-1]\n",
        "print(rev)\n",
        "#a[0]=\"B\" ? why show this erro?\n",
        "#print(a)"
      ],
      "metadata": {
        "colab": {
          "base_uri": "https://localhost:8080/",
          "height": 211
        },
        "id": "ilNtMdOuuOOL",
        "outputId": "db256269-a1b6-41fd-b08c-50e17cf6b9d8"
      },
      "execution_count": null,
      "outputs": [
        {
          "output_type": "stream",
          "name": "stdout",
          "text": [
            "luhar\n"
          ]
        },
        {
          "output_type": "error",
          "ename": "TypeError",
          "evalue": "'str' object does not support item assignment",
          "traceback": [
            "\u001b[0;31m---------------------------------------------------------------------------\u001b[0m",
            "\u001b[0;31mTypeError\u001b[0m                                 Traceback (most recent call last)",
            "\u001b[0;32m/tmp/ipython-input-3795920422.py\u001b[0m in \u001b[0;36m<cell line: 0>\u001b[0;34m()\u001b[0m\n\u001b[1;32m      3\u001b[0m \u001b[0mrev\u001b[0m\u001b[0;34m=\u001b[0m\u001b[0ma\u001b[0m\u001b[0;34m[\u001b[0m \u001b[0;34m:\u001b[0m\u001b[0;34m:\u001b[0m\u001b[0;34m-\u001b[0m\u001b[0;36m1\u001b[0m\u001b[0;34m]\u001b[0m\u001b[0;34m\u001b[0m\u001b[0;34m\u001b[0m\u001b[0m\n\u001b[1;32m      4\u001b[0m \u001b[0mprint\u001b[0m\u001b[0;34m(\u001b[0m\u001b[0mrev\u001b[0m\u001b[0;34m)\u001b[0m\u001b[0;34m\u001b[0m\u001b[0;34m\u001b[0m\u001b[0m\n\u001b[0;32m----> 5\u001b[0;31m \u001b[0ma\u001b[0m\u001b[0;34m[\u001b[0m\u001b[0;36m0\u001b[0m\u001b[0;34m]\u001b[0m\u001b[0;34m=\u001b[0m\u001b[0;34m\"B\"\u001b[0m\u001b[0;34m\u001b[0m\u001b[0;34m\u001b[0m\u001b[0m\n\u001b[0m\u001b[1;32m      6\u001b[0m \u001b[0;31m#print(a)\u001b[0m\u001b[0;34m\u001b[0m\u001b[0;34m\u001b[0m\u001b[0m\n",
            "\u001b[0;31mTypeError\u001b[0m: 'str' object does not support item assignment"
          ]
        }
      ]
    },
    {
      "cell_type": "code",
      "source": [
        "s1=\"this is a string \"\n",
        "s2=\"this\"+\"is\"+'a'+\"string\"\n",
        "print(s2)\n",
        "s3=\"this is a \\\n",
        "           single line \"\n",
        "print(s3)\n",
        "print(\"the length of string :\",len(s3))\n",
        "print(\"first ch:\",s3[0])\n",
        "s4=\"#this is a comment\"\n",
        "s5=s4[:]\n",
        "print(s5)\n",
        "s5=s4[2:6] #-->this concept known as slicing it is used for data split their daata set into their train and test subset\n",
        "print(s5)\n",
        "name =\"rahul\"\n",
        "for ch in name : #-->when we know the character in string nut it not show the value of i .\n",
        "  print(ch,end=\"*\\n\")\n",
        "  s5=\"loop\"\n",
        "for i in range(len(s5)):\n",
        "    print(-i,s5[-i])"
      ],
      "metadata": {
        "colab": {
          "base_uri": "https://localhost:8080/"
        },
        "id": "kq1F7TrPngEz",
        "outputId": "5caf114c-f37c-47d6-c0c4-5295bcf5dc52"
      },
      "execution_count": null,
      "outputs": [
        {
          "output_type": "stream",
          "name": "stdout",
          "text": [
            "thisisastring\n",
            "this is a            single line \n",
            "the length of string : 33\n",
            "first ch: t\n",
            "#this is a comment\n",
            "his \n",
            "r*\n",
            "a*\n",
            "h*\n",
            "u*\n",
            "l*\n",
            "0 l\n",
            "-1 p\n",
            "-2 o\n",
            "-3 o\n"
          ]
        }
      ]
    },
    {
      "cell_type": "markdown",
      "source": [
        "STRING are the aaray of the representing unique code character .There is no seprate data type .\n",
        "\n",
        "1.string can be created using double coma,single coma\n",
        "\n",
        "excess indivisual char using indexing 0\n",
        "\n",
        "string are inmutulate.\n",
        "\n",
        "string can be repeated by multiple times.\n",
        "\n",
        "the fn used for called string"
      ],
      "metadata": {
        "id": "JSg-AL1ck8wu"
      }
    },
    {
      "cell_type": "markdown",
      "source": [
        "1.int -use for the categorical encodings ,class id's,one hot indexing and token id's in nlp\n",
        "\n",
        "2.float:-it rapresent real world value data like features , predication ,gradient,and weights\n",
        "\n",
        "3.complex:--use to signal proccesing ,audio and image analysis,spectral methods such as FFT in EEG\n",
        "\n",
        "4.Float32/float64:--standard in deep learning fram works like pytorch and tensorflow to blance precision and memeory uses\n",
        "\n",
        "int32/int64:--usefull for labels indexing arrays/tensor and specifing sequence length"
      ],
      "metadata": {
        "id": "pTSZc3n8tAl7"
      }
    },
    {
      "cell_type": "code",
      "source": [
        "power_levels=[86,92.5,75,88.0,91]\n",
        "if power_levels:\n",
        "  avarage=sum(power_levels)/len(power_levels)\n",
        "  avarage=round(avarage,2)\n",
        "\n",
        "else:\n",
        "  avarage=0\n",
        "\n",
        "print(avarage)"
      ],
      "metadata": {
        "colab": {
          "base_uri": "https://localhost:8080/"
        },
        "id": "5qlKh-eLvLzr",
        "outputId": "363d1d27-da57-4661-a406-b959b77650a3"
      },
      "execution_count": null,
      "outputs": [
        {
          "output_type": "stream",
          "name": "stdout",
          "text": [
            "86.5\n"
          ]
        }
      ]
    },
    {
      "cell_type": "markdown",
      "source": [
        "INTERVIEW TIPS:-- never understimate input validation an empty list or incorrect data analist can colaps your algorithm."
      ],
      "metadata": {
        "id": "-sr0R8Y6z7wX"
      }
    },
    {
      "cell_type": "markdown",
      "source": [
        "DATA TYPE:--1.numeric ,2.TEXT,3.sequence,4.mapping,5.binary,6.none\n",
        "\n",
        "1.numeric:--int,float,complex\n",
        "\n",
        "            x=10,x=3.14,x=3+2j\n",
        "\n",
        "2.text:--string\n",
        "\n",
        "          x=\"rahul\"\n",
        "\n",
        "3.sequence:--list,tuple,range\n",
        "\n",
        "            x=[1,2,Rahul]\n",
        "\n",
        "4.mapping:--dict\n",
        "\n",
        "5.Binary:-- bytes,memoryview,bytesarray\n"
      ],
      "metadata": {
        "id": "frgVO-Rirx-E"
      }
    },
    {
      "cell_type": "markdown",
      "source": [
        "\n",
        "\n",
        "\n",
        "\n",
        "\n",
        "globle and local variable"
      ],
      "metadata": {
        "id": "Q8hCo1h2vE3g"
      }
    },
    {
      "cell_type": "code",
      "source": [
        "msg1=\"hii\" #<--globle variable\n",
        "def greet():\n",
        "  msg=\"hello\"\n",
        "  print(msg)\n",
        "\n",
        "\n",
        "greet()\n",
        "print(\"outside local scope:\",msg1) #<--output"
      ],
      "metadata": {
        "id": "v1A4i0Nz8Sl2",
        "colab": {
          "base_uri": "https://localhost:8080/"
        },
        "outputId": "c53cbf5d-74fb-4b6f-e35a-31d26f6e66eb"
      },
      "execution_count": null,
      "outputs": [
        {
          "output_type": "stream",
          "name": "stdout",
          "text": [
            "hello\n",
            "outside local scope: hii\n"
          ]
        }
      ]
    },
    {
      "cell_type": "markdown",
      "source": [
        "swap variable\n"
      ],
      "metadata": {
        "id": "DM49y82NCOUL"
      }
    },
    {
      "cell_type": "code",
      "source": [
        "thanos_score=146\n",
        "thor_score=200\n",
        "thanos_score,thor_score=thor_score,thanos_score\n",
        "print(thanos_score,thor_score)\n"
      ],
      "metadata": {
        "colab": {
          "base_uri": "https://localhost:8080/"
        },
        "id": "w37whelGqF1L",
        "outputId": "3aa7c628-48b0-44c2-e61f-6580a04ea7b8"
      },
      "execution_count": null,
      "outputs": [
        {
          "output_type": "stream",
          "name": "stdout",
          "text": [
            "200 146\n"
          ]
        }
      ]
    },
    {
      "cell_type": "markdown",
      "source": [
        "typcating of veairables\n"
      ],
      "metadata": {
        "id": "8XfFvi05mj9O"
      }
    },
    {
      "cell_type": "code",
      "source": [
        "val =\"10\"\n",
        "val_new=int(val)\n",
        "print(val_new)\n",
        "val1_new=str(val)\n",
        "print(val_new)"
      ],
      "metadata": {
        "colab": {
          "base_uri": "https://localhost:8080/"
        },
        "id": "yw07pF80mlyR",
        "outputId": "b4a7be71-de1e-4a7e-fd71-1c1d345fca5c"
      },
      "execution_count": null,
      "outputs": [
        {
          "output_type": "stream",
          "name": "stdout",
          "text": [
            "10\n",
            "10\n"
          ]
        }
      ]
    },
    {
      "cell_type": "markdown",
      "source": [
        "hulk strength level is recorded as a string input 1000 convert it into integer and increase by 200\n",
        "\n",
        "B. doctore strange recorde the time in second but accidently input in the form of string value is 6000 convert it in intezer and convert it into hours"
      ],
      "metadata": {
        "id": "vLTCJYdSnmE8"
      }
    },
    {
      "cell_type": "code",
      "source": [
        "hulk_strength=\"1000\"\n",
        "hulk_new=int(hulk_strength)\n",
        "print(hulk_new+200)\n",
        "dr_strange=\"6000\"\n",
        "dr_new=int(dr_strange)\n",
        "print(dr_new/60)"
      ],
      "metadata": {
        "id": "up_SWw51o2WP",
        "colab": {
          "base_uri": "https://localhost:8080/"
        },
        "outputId": "fcbc6407-f613-4f6e-ef01-9b1f1d9ab532"
      },
      "execution_count": null,
      "outputs": [
        {
          "output_type": "stream",
          "name": "stdout",
          "text": [
            "1200\n",
            "100.0\n"
          ]
        }
      ]
    },
    {
      "cell_type": "markdown",
      "source": [
        "C.lokii recorded seven hits out of ten shots both in integer convert them into flot and the calcute the accurecy pracentage\n"
      ],
      "metadata": {
        "id": "LaTdTVlHpBUh"
      }
    },
    {
      "cell_type": "code",
      "source": [
        "shots_total=10\n",
        "hits=7\n",
        "acc=(float(hits)/float(shots_total))*100\n",
        "print( f\"Accuracy:{acc:.2f} %\")"
      ],
      "metadata": {
        "colab": {
          "base_uri": "https://localhost:8080/"
        },
        "id": "jaAVHSfZpYAO",
        "outputId": "cccfc9e5-caa6-4b7e-8250-9e0fea4afc47"
      },
      "execution_count": null,
      "outputs": [
        {
          "output_type": "stream",
          "name": "stdout",
          "text": [
            "Accuracy:70.00 %\n"
          ]
        }
      ]
    },
    {
      "cell_type": "markdown",
      "source": [
        "D .Thor hammer weight is 5000 in tnteze but you need calculate gravitationl force which require it is a float"
      ],
      "metadata": {
        "id": "JU_TFuMYqr8W"
      }
    },
    {
      "cell_type": "code",
      "source": [
        "hulk_strength=\"1000\"\n",
        "hulk_new=int(hulk_strength)\n",
        "print(hulk_new+200)\n",
        "dr_strange=\"6000\"\n",
        "dr_new=int(dr_strange)\n",
        "print(dr_new/60)"
      ],
      "metadata": {
        "colab": {
          "base_uri": "https://localhost:8080/"
        },
        "id": "Czt4Zr1Bn5OE",
        "outputId": "66108845-2831-4fc3-d0a2-3254fbefb1ab"
      },
      "execution_count": null,
      "outputs": [
        {
          "output_type": "stream",
          "name": "stdout",
          "text": [
            "1200\n",
            "100.0\n"
          ]
        }
      ]
    },
    {
      "cell_type": "markdown",
      "source": [
        "2.reassigning a variable does not affect other variable refrencing same object unless we append this variable\n"
      ],
      "metadata": {
        "id": "WVvC-oMGqivz"
      }
    },
    {
      "cell_type": "code",
      "source": [
        "a=[1,2,3]\n",
        "b=a\n",
        "b=[4,5,6]\n",
        "print(\"a\",a)\n",
        "print(\"b\",b)\n",
        "del a  #for free up  the memory we can use this\n",
        "print(a)"
      ],
      "metadata": {
        "colab": {
          "base_uri": "https://localhost:8080/",
          "height": 211
        },
        "id": "RI9htISZqmMU",
        "outputId": "5b7ab067-7390-4bc5-f338-3f446ec4cbad"
      },
      "execution_count": null,
      "outputs": [
        {
          "output_type": "stream",
          "name": "stdout",
          "text": [
            "a [1, 2, 3]\n",
            "b [4, 5, 6]\n"
          ]
        },
        {
          "output_type": "error",
          "ename": "NameError",
          "evalue": "name 'a' is not defined",
          "traceback": [
            "\u001b[0;31m---------------------------------------------------------------------------\u001b[0m",
            "\u001b[0;31mNameError\u001b[0m                                 Traceback (most recent call last)",
            "\u001b[0;32m/tmp/ipython-input-3171084290.py\u001b[0m in \u001b[0;36m<cell line: 0>\u001b[0;34m()\u001b[0m\n\u001b[1;32m      5\u001b[0m \u001b[0mprint\u001b[0m\u001b[0;34m(\u001b[0m\u001b[0;34m\"b\"\u001b[0m\u001b[0;34m,\u001b[0m\u001b[0mb\u001b[0m\u001b[0;34m)\u001b[0m\u001b[0;34m\u001b[0m\u001b[0;34m\u001b[0m\u001b[0m\n\u001b[1;32m      6\u001b[0m \u001b[0;32mdel\u001b[0m \u001b[0ma\u001b[0m  \u001b[0;31m#for free up  the memory we can use this\u001b[0m\u001b[0;34m\u001b[0m\u001b[0;34m\u001b[0m\u001b[0m\n\u001b[0;32m----> 7\u001b[0;31m \u001b[0mprint\u001b[0m\u001b[0;34m(\u001b[0m\u001b[0ma\u001b[0m\u001b[0;34m)\u001b[0m\u001b[0;34m\u001b[0m\u001b[0;34m\u001b[0m\u001b[0m\n\u001b[0m",
            "\u001b[0;31mNameError\u001b[0m: name 'a' is not defined"
          ]
        }
      ]
    },
    {
      "cell_type": "markdown",
      "source": [
        "object refrence"
      ],
      "metadata": {
        "id": "ayv7gUAWs5o3"
      }
    },
    {
      "cell_type": "code",
      "source": [
        "shield=[\"uibranium\",\"round\"]\n",
        "copy_shield=shield\n",
        "print(\"original shield stored:\",shield)\n",
        "print(\"wolverine changes the shield material.\")\n",
        "copy_shield[0]=\"adamantium\"\n",
        "print(\"new shield is:\",shield)"
      ],
      "metadata": {
        "colab": {
          "base_uri": "https://localhost:8080/"
        },
        "id": "A39xAu0Ds_qu",
        "outputId": "91c3b4d8-9c3b-4121-dd6c-bb6992ff1d2c"
      },
      "execution_count": null,
      "outputs": [
        {
          "output_type": "stream",
          "name": "stdout",
          "text": [
            "original shield stored: ['uibranium', 'round']\n",
            "wolverine changes the shield material.\n",
            "new shield is: ['adamantium', 'round']\n"
          ]
        }
      ]
    },
    {
      "cell_type": "markdown",
      "source": [
        "a=[81,82,83]\n",
        "b=[81,82,83]"
      ],
      "metadata": {
        "id": "ZQvixs5Eu_t1"
      }
    },
    {
      "cell_type": "code",
      "source": [
        "a=[81,82,83]\n",
        "b=[81,82,83]\n",
        "print(a is b)\n",
        "print(a==b)"
      ],
      "metadata": {
        "colab": {
          "base_uri": "https://localhost:8080/"
        },
        "id": "ekcmUPXJvI5H",
        "outputId": "6c33849d-9f1c-46cc-a6e6-a2ba6d1c2df4"
      },
      "execution_count": null,
      "outputs": [
        {
          "output_type": "stream",
          "name": "stdout",
          "text": [
            "False\n",
            "True\n"
          ]
        }
      ]
    },
    {
      "cell_type": "markdown",
      "source": [
        "Q.string operation"
      ],
      "metadata": {
        "id": "_hILgUOjDH9k"
      }
    },
    {
      "cell_type": "code",
      "source": [
        "X=\"hEllo\"\n",
        "print(X.upper())\n",
        "print(X.lower())\n",
        "print(X.replace('o','O'))\n",
        "print(X[1:5])\n",
        "\n",
        "print(X.title())\n",
        "\n",
        "print(X.swapcase())\n",
        "print(X.capitalize())\n",
        "\n",
        "print(X.count('l'))\n",
        "print(X.casefold())\n",
        "print(X.center(50))\n",
        "\n"
      ],
      "metadata": {
        "colab": {
          "base_uri": "https://localhost:8080/"
        },
        "id": "pw_qB1y_DOFG",
        "outputId": "9f697911-a858-40a6-9eb9-fe13f7da0dc7"
      },
      "execution_count": null,
      "outputs": [
        {
          "output_type": "stream",
          "name": "stdout",
          "text": [
            "HELLO\n",
            "hello\n",
            "hEllO\n",
            "Ello\n",
            "Hello\n",
            "HeLLO\n",
            "Hello\n",
            "2\n",
            "hello\n",
            "                      hEllo                       \n"
          ]
        }
      ]
    },
    {
      "cell_type": "markdown",
      "source": [
        "AVARAGE FIND\n"
      ],
      "metadata": {
        "id": "G-mz0c3M-kvZ"
      }
    },
    {
      "cell_type": "code",
      "source": [
        "import statistics\n",
        "powerlevel={\"Iron_man\":98,\"Hulk\":100}\n",
        "              #KEY    VALUE\n",
        "avg_level=statistics.mean(powerlevel.values())\n",
        "print(avg_level)\n"
      ],
      "metadata": {
        "colab": {
          "base_uri": "https://localhost:8080/"
        },
        "id": "nYQENYL71ksO",
        "outputId": "2e550b4c-bf7a-4067-aba3-653cc393104e"
      },
      "execution_count": null,
      "outputs": [
        {
          "output_type": "stream",
          "name": "stdout",
          "text": [
            "99\n"
          ]
        }
      ]
    },
    {
      "cell_type": "markdown",
      "source": [
        "INTERVIEW TIPS:-\n",
        "\n",
        "1.Dictionry vs list:-dic. is best when data can be mapped.List works when order aor sequence matters.\n",
        "\n",
        "2.Efficiency:--compute the avarage in one pass using built in function or libraries.\n",
        "\n",
        "3.keep the time complexity in the mind."
      ],
      "metadata": {
        "id": "rOH4ei2Q3-Zr"
      }
    },
    {
      "cell_type": "markdown",
      "source": [
        "  Q.1 WRITE the python program to find largest and smallest in list."
      ],
      "metadata": {
        "id": "nW53Qsmw_Af1"
      }
    },
    {
      "cell_type": "code",
      "source": [
        "num=[4,7,1,9,12,3]\n",
        "min=max=num[0]\n",
        "for n in num:\n",
        "  if n<min:\n",
        "    min=n\n",
        "  if n>max:\n",
        "    max=n\n",
        "print(f\"max is{max}and min is {min}\")"
      ],
      "metadata": {
        "colab": {
          "base_uri": "https://localhost:8080/"
        },
        "id": "CpaseAQX_b7M",
        "outputId": "e2e97c95-e398-4161-f4e9-20978f117313"
      },
      "execution_count": null,
      "outputs": [
        {
          "output_type": "stream",
          "name": "stdout",
          "text": [
            "max is12and min is 1\n"
          ]
        }
      ]
    },
    {
      "cell_type": "markdown",
      "source": [
        "Q.2 ROTATE a list to the right by K step."
      ],
      "metadata": {
        "id": "39JbgR5f_MAS"
      }
    },
    {
      "cell_type": "code",
      "source": [
        "num=[1,2,3,4,5]\n",
        "k=2\n",
        "k=k%len(num)\n",
        "rotated=num[-k: ]+num[ :-k]\n",
        "print(rotated)"
      ],
      "metadata": {
        "colab": {
          "base_uri": "https://localhost:8080/"
        },
        "id": "k13jzLIWCK8L",
        "outputId": "3fd7679c-0072-4103-d64f-810d44febcd0"
      },
      "execution_count": null,
      "outputs": [
        {
          "output_type": "stream",
          "name": "stdout",
          "text": [
            "[4, 5, 1, 2, 3]\n"
          ]
        }
      ]
    }
  ],
  "metadata": {
    "colab": {
      "provenance": [],
      "include_colab_link": true
    },
    "kernelspec": {
      "display_name": "Python 3",
      "name": "python3"
    }
  },
  "nbformat": 4,
  "nbformat_minor": 0
}