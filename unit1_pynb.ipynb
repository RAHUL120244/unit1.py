{
  "cells": [
    {
      "cell_type": "markdown",
      "metadata": {
        "id": "view-in-github",
        "colab_type": "text"
      },
      "source": [
        "<a href=\"https://colab.research.google.com/github/RAHUL120244/unit1.py/blob/main/unit1_pynb.ipynb\" target=\"_parent\"><img src=\"https://colab.research.google.com/assets/colab-badge.svg\" alt=\"Open In Colab\"/></a>"
      ]
    },
    {
      "cell_type": "markdown",
      "source": [
        "Nested dictionary"
      ],
      "metadata": {
        "id": "PJlRLoZSCbsu"
      }
    },
    {
      "cell_type": "code",
      "source": [
        "my_family = {\n",
        "  \"child1\" : {\n",
        "    \"name\" : \"Emil\",\n",
        "    \"year\" : 2004\n",
        "  },\n",
        "  \"child2\" : {\n",
        "    \"name\" : \"Tobias\",\n",
        "    \"year\" : 2007\n",
        "  },\n",
        "  \"child3\" : {\n",
        "    \"name\" : \"Linus\",\n",
        "    \"year\" : 2011\n",
        "  }\n",
        "}\n",
        "\n",
        "print(my_family)"
      ],
      "metadata": {
        "colab": {
          "base_uri": "https://localhost:8080/"
        },
        "id": "tEcZlPUlCgba",
        "outputId": "0f70d318-1b17-4475-d92b-f0d72c1d7e1e"
      },
      "execution_count": null,
      "outputs": [
        {
          "output_type": "stream",
          "name": "stdout",
          "text": [
            "{'child1': {'name': 'Emil', 'year': 2004}, 'child2': {'name': 'Tobias', 'year': 2007}, 'child3': {'name': 'Linus', 'year': 2011}}\n"
          ]
        }
      ]
    },
    {
      "cell_type": "markdown",
      "source": [
        "COPYING DICTIONARY:--"
      ],
      "metadata": {
        "id": "PMxvghOr-Mti"
      }
    },
    {
      "cell_type": "code",
      "source": [
        "car = {\n",
        "    \"model\": \"sedan\",\n",
        "    \"name\": \"Toyota Camry\",\n",
        "    \"year\": 2022\n",
        "}\n",
        "car_copy=car.copy() # mutable for main list\n",
        "car_copy['name']='blue'\n",
        "print(car)\n",
        "print(car_copy)\n",
        "car_copy=dict(car) # by this we can create copy\n",
        "for x in car:\n",
        "  print(x)\n",
        "for x in car.keys():\n",
        "  print(x)\n",
        "for x in car.values():\n",
        "  print(x)\n",
        "for K,V in car.items():\n",
        "  print(K, V)"
      ],
      "metadata": {
        "colab": {
          "base_uri": "https://localhost:8080/"
        },
        "id": "xWRq__hy_tVU",
        "outputId": "9fd2fde1-b22f-4568-f8ff-72399c1ba08a"
      },
      "execution_count": null,
      "outputs": [
        {
          "output_type": "stream",
          "name": "stdout",
          "text": [
            "{'model': 'sedan', 'name': 'Toyota Camry', 'year': 2022}\n",
            "{'model': 'sedan', 'name': 'blue', 'year': 2022}\n",
            "model\n",
            "name\n",
            "year\n",
            "model\n",
            "name\n",
            "year\n",
            "sedan\n",
            "Toyota Camry\n",
            "2022\n",
            "model sedan\n",
            "name Toyota Camry\n",
            "year 2022\n"
          ]
        }
      ]
    },
    {
      "cell_type": "code",
      "source": [
        "X={'a':1,'b':2}\n",
        "Y=X\n",
        "print(id(X))\n",
        "print(id(Y))\n",
        "print(X==Y)\n",
        "print(X is Y)\n",
        "Z={'a':1,'b':2}\n",
        "print(X==Z)\n",
        "print(X is Z)\n",
        "Y={'c':3,'d':4}\n",
        "print(X)\n",
        "print(Y)\n",
        "#copy function:--"
      ],
      "metadata": {
        "colab": {
          "base_uri": "https://localhost:8080/"
        },
        "id": "OTVnAudH9KIk",
        "outputId": "5f355600-20e3-4795-f121-a0d612260c50"
      },
      "execution_count": null,
      "outputs": [
        {
          "output_type": "stream",
          "name": "stdout",
          "text": [
            "131990888334848\n",
            "131990888334848\n",
            "True\n",
            "True\n",
            "True\n",
            "False\n",
            "{'a': 1, 'b': 2}\n",
            "{'c': 3, 'd': 4}\n"
          ]
        }
      ]
    },
    {
      "cell_type": "code",
      "source": [
        "car = {\n",
        "    \"model\": \"sedan\",\n",
        "    \"name\": \"Toyota Camry\",\n",
        "    \"year\": 2022\n",
        "}\n",
        "print(car.pop('model'))\n",
        "print(car.popitem())\n",
        "print(car.clear())"
      ],
      "metadata": {
        "colab": {
          "base_uri": "https://localhost:8080/"
        },
        "id": "6jBk5JU_7Ojz",
        "outputId": "fa282580-494a-41da-fb3c-5d8cb94294b5"
      },
      "execution_count": null,
      "outputs": [
        {
          "output_type": "stream",
          "name": "stdout",
          "text": [
            "sedan\n",
            "('year', 2022)\n",
            "None\n"
          ]
        }
      ]
    },
    {
      "cell_type": "code",
      "source": [
        "student=[\"arav\",\"risa\",\"ravi\"]\n",
        "marks=[70,80,92]\n",
        "dic={}\n",
        "for i in range(len(student)):\n",
        "  dic[student[i]]=marks[i]\n",
        "print(dic)\n",
        "#or\n",
        "{student[i]:marks[i] for i in range(len(student))}"
      ],
      "metadata": {
        "colab": {
          "base_uri": "https://localhost:8080/"
        },
        "id": "3LmkaUct-r6U",
        "outputId": "1d36d061-b983-4fe2-f638-3f839b001d2e"
      },
      "execution_count": null,
      "outputs": [
        {
          "output_type": "stream",
          "name": "stdout",
          "text": [
            "{'arav': 70, 'risa': 80, 'ravi': 92}\n"
          ]
        },
        {
          "output_type": "execute_result",
          "data": {
            "text/plain": [
              "{'arav': 70, 'risa': 80, 'ravi': 92}"
            ]
          },
          "metadata": {},
          "execution_count": 20
        }
      ]
    },
    {
      "cell_type": "code",
      "source": [
        "#.item key + value print kar dega"
      ],
      "metadata": {
        "id": "rivOa5Aa-Nlx"
      },
      "execution_count": null,
      "outputs": []
    },
    {
      "cell_type": "code",
      "source": [
        "f=[\"apple\",\"orange\",\"apple\",\"bnana\",\"apple\"]\n",
        "count={}\n",
        "for i in f:\n",
        "  count[i]=count.get(i,0)+1\n",
        "print(count)"
      ],
      "metadata": {
        "colab": {
          "base_uri": "https://localhost:8080/"
        },
        "id": "fuhIeJ7U8rZ2",
        "outputId": "ea9a3388-b61b-4b7a-9a1c-a6bf09ad17ae"
      },
      "execution_count": null,
      "outputs": [
        {
          "output_type": "stream",
          "name": "stdout",
          "text": [
            "{'apple': 6, 'orange': 2, 'bnana': 2}\n"
          ]
        }
      ]
    },
    {
      "cell_type": "code",
      "source": [
        "car=dict(brand=\"audi\",model=2008)\n",
        "print(car)"
      ],
      "metadata": {
        "colab": {
          "base_uri": "https://localhost:8080/"
        },
        "id": "j5KVcqPV5x10",
        "outputId": "86306678-1d42-4fc5-c839-f09476ce350f"
      },
      "execution_count": null,
      "outputs": [
        {
          "output_type": "stream",
          "name": "stdout",
          "text": [
            "{'brand': 'audi', 'model': 2008}\n"
          ]
        }
      ]
    },
    {
      "cell_type": "code",
      "source": [
        "dic={\"brand\":\"thar\",\"model no\":80,\"year\":2000}\n",
        "dic[\"model no\"]=\"auddy\"\n",
        "print(dic)\n",
        "print(dic.get(\"brand\")) #for get key valu\n",
        "print(dic.get(\"fuel\",'you have entered wrong key'))  #no key mathching\n",
        "car_key=dic.keys()\n",
        "print(car_key) #all keys are print\n",
        "dic[\"brand\"]='petrol'\n",
        "print(dic.keys())"
      ],
      "metadata": {
        "colab": {
          "base_uri": "https://localhost:8080/"
        },
        "id": "7W6MfTZx4KJH",
        "outputId": "368ffbbe-e9bd-4552-ba6d-b573f7325bfc"
      },
      "execution_count": null,
      "outputs": [
        {
          "output_type": "stream",
          "name": "stdout",
          "text": [
            "{'brand': 'thar', 'model no': 'auddy', 'year': 2000}\n",
            "thar\n",
            "you have entered wrong key\n",
            "dict_keys(['brand', 'model no', 'year'])\n",
            "dict_keys(['brand', 'model no', 'year'])\n"
          ]
        }
      ]
    },
    {
      "cell_type": "markdown",
      "source": [
        "Q.if  A frame rate increase linearly over the temporal averaging\n",
        "what is the total normaliztion rate."
      ],
      "metadata": {
        "id": "i5xpsY4s1WPJ"
      }
    },
    {
      "cell_type": "markdown",
      "source": [
        "Q. print for loop 1 to 100 square until undred"
      ],
      "metadata": {
        "id": "bguJMfpq_GzM"
      }
    },
    {
      "cell_type": "code",
      "source": [
        "num=[]\n",
        "i=1\n",
        "while i**2<=100: #we can also use i*i\n",
        "  num.append(i*i)\n",
        "  i=i+1\n",
        "\n",
        "print(num)\n",
        "#using for loop:--\n",
        "num=[]\n",
        "for x in range (1,11):\n",
        "  num.append(x*x)\n",
        "print(num)\n",
        "#using for loop in list\n",
        "num=[]\n",
        "[num.append(x*x) for x in range(1,11)]\n",
        "print(num)"
      ],
      "metadata": {
        "colab": {
          "base_uri": "https://localhost:8080/"
        },
        "id": "wu3k5cML_zyb",
        "outputId": "bc9a3b03-452d-40ca-ff5b-8314336b0f6f"
      },
      "execution_count": null,
      "outputs": [
        {
          "output_type": "stream",
          "name": "stdout",
          "text": [
            "[1, 4, 9, 16, 25, 36, 49, 64, 81, 100]\n",
            "[1, 4, 9, 16, 25, 36, 49, 64, 81, 100]\n",
            "[1, 4, 9, 16, 25, 36, 49, 64, 81, 100]\n"
          ]
        }
      ]
    },
    {
      "cell_type": "markdown",
      "source": [
        "List loop:-"
      ],
      "metadata": {
        "id": "06u7wuy33xwh"
      }
    },
    {
      "cell_type": "code",
      "source": [
        "student_names=['rahul','sihag','vinod']\n",
        "# for loop\n",
        "for x in student_names:\n",
        "  print(x)\n",
        "for x in range(len(student_names)):\n",
        "  print(x,\":\",student_names[x])  #for index number ke sath list element print karna\n",
        "  #while loop\n",
        "i=0\n",
        "while i<len(student_names):\n",
        "  print(i,\":\",student_names[i])\n",
        "  i=i+1\n",
        " #list print:--\n",
        "#for x in student_names:\n",
        "[print(x) for x in student_names] # while se nhi hoga kyunki usko list me nahi likh sakate\n"
      ],
      "metadata": {
        "colab": {
          "base_uri": "https://localhost:8080/"
        },
        "id": "vaj64TEA32Av",
        "outputId": "74ecb019-2778-4756-dbdf-305031545d14"
      },
      "execution_count": null,
      "outputs": [
        {
          "output_type": "stream",
          "name": "stdout",
          "text": [
            "rahul\n",
            "sihag\n",
            "vinod\n",
            "0 : rahul\n",
            "1 : sihag\n",
            "2 : vinod\n",
            "0 : rahul\n",
            "1 : sihag\n",
            "2 : vinod\n",
            "rahul\n",
            "sihag\n",
            "vinod\n"
          ]
        },
        {
          "output_type": "execute_result",
          "data": {
            "text/plain": [
              "[None, None, None]"
            ]
          },
          "metadata": {},
          "execution_count": 13
        }
      ]
    },
    {
      "cell_type": "markdown",
      "source": [
        "BITWISE OPERATORS"
      ],
      "metadata": {
        "id": "nWshzb6qPkqF"
      }
    },
    {
      "cell_type": "code",
      "source": [
        "print(5 &3)\n",
        "print(5|3)\n",
        "print(5^3)\n",
        "print(~5)\n",
        "print(-10//4/3)\n",
        "print(\"APPLE\" < \"apple\")\n",
        "print(True==2-3)"
      ],
      "metadata": {
        "colab": {
          "base_uri": "https://localhost:8080/"
        },
        "id": "66gedTi8PrI_",
        "outputId": "f79dab2f-6fb2-4574-bec4-f10621065122"
      },
      "execution_count": null,
      "outputs": [
        {
          "output_type": "stream",
          "name": "stdout",
          "text": [
            "1\n",
            "7\n",
            "6\n",
            "-6\n",
            "-1.0\n",
            "True\n",
            "False\n"
          ]
        }
      ]
    },
    {
      "cell_type": "markdown",
      "source": [
        "IDENTITY OPERATORS:--"
      ],
      "metadata": {
        "id": "zHLbYZ2wO2Mt"
      }
    },
    {
      "cell_type": "code",
      "source": [
        "a=[1,2,3]\n",
        "print(3 in a)\n",
        "print(\"a\" in \"banana\")\n",
        "print(\"nana\" in \"banana\")"
      ],
      "metadata": {
        "colab": {
          "base_uri": "https://localhost:8080/"
        },
        "id": "iK7X1D8DO6rL",
        "outputId": "402f120b-8430-4f71-8bb2-7bf5211a3879"
      },
      "execution_count": null,
      "outputs": [
        {
          "output_type": "stream",
          "name": "stdout",
          "text": [
            "True\n",
            "True\n",
            "True\n"
          ]
        }
      ]
    },
    {
      "cell_type": "markdown",
      "source": [
        "LOGICAL OPERATOR:--"
      ],
      "metadata": {
        "id": "XqDTVCkaNXp4"
      }
    },
    {
      "cell_type": "code",
      "source": [
        "print(0 and 5)\n",
        "print(0 or 5)\n",
        "print(not 5)\n",
        "print([] and \"hii\")\n",
        "print([] or \"hii\")\n",
        "#a and b does not evaluate b if a is false .this called short circuiting\n"
      ],
      "metadata": {
        "colab": {
          "base_uri": "https://localhost:8080/"
        },
        "id": "CINCwmBSNb5w",
        "outputId": "9bd91112-ef4c-47d6-f894-ec16bc148e2a"
      },
      "execution_count": null,
      "outputs": [
        {
          "output_type": "stream",
          "name": "stdout",
          "text": [
            "0\n",
            "5\n",
            "False\n",
            "[]\n",
            "hii\n"
          ]
        }
      ]
    },
    {
      "cell_type": "markdown",
      "source": [
        "COMPARISON OPERATORS"
      ],
      "metadata": {
        "id": "tHBTFW1wLArk"
      }
    },
    {
      "cell_type": "code",
      "source": [
        "x,y=10,10\n",
        "print(x==y)\n",
        "print(x !=y)\n",
        "print(x<y)\n",
        "print(x>y)\n",
        "print(x>=y)\n",
        "print(x<=y)\n",
        "print(10 == 10.0)\n",
        "print(\"10\"==10)\n",
        "print(True==1)\n",
        "print(True + True)"
      ],
      "metadata": {
        "colab": {
          "base_uri": "https://localhost:8080/"
        },
        "id": "mPnIEzjHLydX",
        "outputId": "b8f4d359-c6dc-449e-e1bd-9402c5387d32"
      },
      "execution_count": null,
      "outputs": [
        {
          "output_type": "stream",
          "name": "stdout",
          "text": [
            "True\n",
            "False\n",
            "False\n",
            "False\n",
            "True\n",
            "True\n",
            "True\n",
            "False\n",
            "True\n",
            "2\n"
          ]
        }
      ]
    },
    {
      "cell_type": "markdown",
      "source": [
        "ASSIGNMENT:-"
      ],
      "metadata": {
        "id": "PUXQluCqHQnM"
      }
    },
    {
      "cell_type": "code",
      "source": [
        "X=5\n",
        "X*=2+3\n",
        "print(X)#precidense of asteric is <precidice of +noperator\n",
        "y=10\n",
        "y//=3 #floor devision\n",
        "print(y)\n",
        "Z=10\n",
        "Z%=3 #modulo\n",
        "print(Z)\n",
        "w=5\n",
        "w **=3 #exponent\n",
        "print(w)\n",
        "#why use assinment operators :--\n",
        "#code consistent and readability\n",
        "#efficiency(in place updation):in python operators like += try to update object in place\n",
        "a=[1,2]\n",
        "b=a\n",
        "a+=[3]\n",
        "print(a)\n",
        "\n",
        "a=[1,2]\n",
        "b=a\n",
        "a=a+[3]\n",
        "print(b)# output is 1,2 because a new list was created"
      ],
      "metadata": {
        "colab": {
          "base_uri": "https://localhost:8080/"
        },
        "id": "tORxNY1BHUS6",
        "outputId": "60c8524e-1c3a-43fc-b3e8-a0072659882e"
      },
      "execution_count": null,
      "outputs": [
        {
          "output_type": "stream",
          "name": "stdout",
          "text": [
            "25\n",
            "3\n",
            "1\n",
            "125\n",
            "[1, 2, 3]\n",
            "[1, 2]\n"
          ]
        }
      ]
    },
    {
      "cell_type": "code",
      "source": [
        "X=5\n",
        "X&=3\n",
        "print(X)\n",
        "X=5\n",
        "X |=3\n",
        "print(X)\n",
        "X=5\n",
        "X^=3\n",
        "print(X)\n",
        "X=5\n",
        "X=X>>1\n",
        "print(X)\n",
        "X=10\n",
        "X=X<<1\n",
        "print(X)\n",
        "print(X:=3)"
      ],
      "metadata": {
        "colab": {
          "base_uri": "https://localhost:8080/"
        },
        "id": "D_PTlxqCKciW",
        "outputId": "1f8c5230-e9f8-493d-edf7-7bb49b785aed"
      },
      "execution_count": null,
      "outputs": [
        {
          "output_type": "stream",
          "name": "stdout",
          "text": [
            "1\n",
            "7\n",
            "6\n",
            "2\n",
            "20\n",
            "3\n"
          ]
        }
      ]
    },
    {
      "cell_type": "markdown",
      "source": [
        "OPERATORS:-"
      ],
      "metadata": {
        "id": "q8wpYFe5IN2Q"
      }
    },
    {
      "cell_type": "code",
      "source": [
        "A=10\n",
        "B=9\n",
        "print(A+B)\n",
        "print(A-B)\n",
        "print(A*B)\n",
        "print(A/B)\n",
        "print(A//B)\n",
        "print(A**B)\n",
        "c=2**3**2\n",
        "print(c) #// is floor devision\n",
        "print(-10//3)# python floor devision deffers from c++ in python you get the answer 4 where as in c++ we get -3\n",
        "print(A%B)"
      ],
      "metadata": {
        "colab": {
          "base_uri": "https://localhost:8080/"
        },
        "id": "WCIpWlT-FHC8",
        "outputId": "4cab9bf2-6e3a-442a-8965-f89c82c44ff5"
      },
      "execution_count": null,
      "outputs": [
        {
          "output_type": "stream",
          "name": "stdout",
          "text": [
            "19\n",
            "1\n",
            "90\n",
            "1.1111111111111112\n",
            "1\n",
            "1000000000\n",
            "512\n",
            "-4\n",
            "1\n"
          ]
        }
      ]
    },
    {
      "cell_type": "markdown",
      "source": [
        "Q.check if any signal start with a and ends with c."
      ],
      "metadata": {
        "id": "SF2uhIr8xHJc"
      }
    },
    {
      "cell_type": "code",
      "source": [
        "s=[\"abcX\",\"axbyc\",\"a123c\",\"123\"]\n",
        "\n",
        "print(any(i.startswith('a') and i.endswith('c') for i in s))\n",
        "print(all(i.startswith('a') and i.endswith('c') for i in s))\n",
        "print(bool([]))\n",
        "print(bool(\" \"))"
      ],
      "metadata": {
        "colab": {
          "base_uri": "https://localhost:8080/"
        },
        "id": "N3dvyQrDxU71",
        "outputId": "46504c90-d5e1-4d6b-c58b-16b976aea097"
      },
      "execution_count": null,
      "outputs": [
        {
          "output_type": "stream",
          "name": "stdout",
          "text": [
            "True\n",
            "False\n",
            "False\n",
            "True\n"
          ]
        }
      ]
    },
    {
      "cell_type": "markdown",
      "source": [
        "** Boolean data type"
      ],
      "metadata": {
        "id": "ehfsw1NTopxR"
      }
    },
    {
      "cell_type": "code",
      "source": [
        "print(10>4)\n",
        "print(type(True)) #it define class of data type\n",
        "a,b=10,20\n",
        "print(a and b) #and gate\n",
        "print(a or b) #or gate operation\n",
        "print(10>9 and 9>8)\n",
        "print(5>3 or 2>3)\n",
        "print(not 5>3) # not gate\n",
        "print(1 ^ 0) #xor gate operation\n",
        "print(a^b)\n",
        "\n",
        "a=a^b\n",
        "b=a^b\n",
        "a=a^b\n",
        "print(a)\n",
        "print(b)\n",
        "print(bin(a))\n",
        "marks =[60,70,80]\n",
        "print(all(m>=40 for m in marks )) #for all we use all()\n",
        "print(any(m>=90 for m in marks )) #for any we use any()\n",
        "print(all([1,2,3]))\n",
        "print(any([0,0,0,0]))\n"
      ],
      "metadata": {
        "colab": {
          "base_uri": "https://localhost:8080/"
        },
        "id": "X-mDE3jxo2EA",
        "outputId": "d270be18-9dee-442d-de41-b83979d1ad43"
      },
      "execution_count": null,
      "outputs": [
        {
          "output_type": "stream",
          "name": "stdout",
          "text": [
            "True\n",
            "<class 'bool'>\n",
            "20\n",
            "10\n",
            "True\n",
            "True\n",
            "False\n",
            "1\n",
            "30\n",
            "20\n",
            "10\n",
            "0b10100\n",
            "True\n",
            "False\n",
            "True\n",
            "False\n"
          ]
        }
      ]
    },
    {
      "cell_type": "markdown",
      "source": [
        "we defined the usage of capitals in a word be right when one of the following cases holdes\n",
        "\n",
        "1.all letters in this words are capitals like USA\n",
        "\n",
        "2.all letters in this word are not capital like leetcode\n",
        "\n",
        "3.only first letter in this word is capital like Google\n",
        "\n",
        ".Given a string word,return true if usage of capitals in it is right e.g.->USA,Output->True\n",
        "\n",
        "input->FlaG,Output->false"
      ],
      "metadata": {
        "id": "AJ7gPDl1EQyI"
      }
    },
    {
      "cell_type": "code",
      "source": [
        "# X=input(\"enter any word\")\n",
        "# a=X.upper()\n",
        "# b=/\n",
        "X=\"USA\"\n",
        "if X.isupper():\n",
        "  print(\"true\")\n",
        "else:\n",
        "    print(\"false\")\n",
        "    #     OR\n",
        "Words=[\"USA\",\"India\",\"Pak\",\"china\"]\n",
        "for i in Words:\n",
        "  if i==i.upper() or i==i.lower() or i==i.title():\n",
        "    print(\"capital hai!\")\n",
        "  else :\n",
        "    print(\"captal nahi hai!\")"
      ],
      "metadata": {
        "colab": {
          "base_uri": "https://localhost:8080/"
        },
        "id": "sGKJAz5BFU8-",
        "outputId": "7b66540c-f537-4fa7-a8c6-f7816eb14e8b"
      },
      "execution_count": null,
      "outputs": [
        {
          "output_type": "stream",
          "name": "stdout",
          "text": [
            "true\n",
            "capital hai!\n",
            "capital hai!\n",
            "capital hai!\n",
            "capital hai!\n"
          ]
        }
      ]
    },
    {
      "cell_type": "markdown",
      "source": [
        "Q.lokii tried to trick avenger ,check if loki is in it .if yes print \"enemy detected\"  ow \"all clear\""
      ],
      "metadata": {
        "id": "oFA_dVivD9mq"
      }
    },
    {
      "cell_type": "code",
      "source": [],
      "metadata": {
        "id": "wgRu0Ya3EP-S"
      },
      "execution_count": null,
      "outputs": []
    },
    {
      "cell_type": "markdown",
      "source": [
        "DIGIT METHOD -->>"
      ],
      "metadata": {
        "id": "uDX9MASzBemf"
      }
    },
    {
      "cell_type": "code",
      "source": [
        "X=\"5080\"\n",
        "print(X.isdigit())\n",
        "a=\"\\u0030\"\n",
        "print(a.isdigit())\n",
        "b=\"\\u0002\" #like powers\n",
        "print(b.isdigit())\n",
        "#check for phase or character is present in string-->> use of in\n",
        "avenger=\"thanos,thor,strange\"\n",
        "print(\"thor\" in avenger)\n",
        "#using if with in keyword\n",
        "if \"thor\" in avenger:\n",
        "  print(\"yes thor is prasent in avenger \")\n",
        "  # not in\n",
        "print(\"hulk\" not in avenger)\n",
        "  #not in with if\n",
        "if \"hulk\" not in avenger:\n",
        "    print(\"not in avenger\")\n",
        "\n"
      ],
      "metadata": {
        "colab": {
          "base_uri": "https://localhost:8080/"
        },
        "id": "nhsZa5NsBid1",
        "outputId": "3f137341-2cf1-46bb-ff3f-3e77c3db7477"
      },
      "execution_count": null,
      "outputs": [
        {
          "output_type": "stream",
          "name": "stdout",
          "text": [
            "True\n",
            "True\n",
            "False\n",
            "True\n"
          ]
        }
      ]
    },
    {
      "cell_type": "markdown",
      "source": [
        "Q.In a digital communication each transmitted signal starts with header and ends with footer, you are given a list of recieved signal signals and a defference signal ref.Write a code to check if any recieved signal had the same header and same footer as ref. signals=[\"hi01f\",\"h202g\",h303f\"]"
      ],
      "metadata": {
        "id": "b1mW0vtX5iuZ"
      }
    },
    {
      "cell_type": "code",
      "source": [],
      "metadata": {
        "id": "qAUlgLvmnznb"
      },
      "execution_count": null,
      "outputs": []
    },
    {
      "cell_type": "markdown",
      "source": [
        "Q.You are given a list of string words and a query Q return true if any word in words start with the same character as Q and ends with the same character as Q. words=[\"leetcode\",\"love\",\"code\",\"lamp\"] Q=[\"life\"]\n"
      ],
      "metadata": {
        "id": "tR618IuQ4miA"
      }
    },
    {
      "cell_type": "code",
      "source": [
        "q=[\"leetcode\",\"like\",\"love\"]\n",
        "for i in q:\n",
        "  print(i.startswith(\"l\") and i.endswith(\"e\"))\n",
        "\n",
        "\n",
        "\n",
        "# print(q.startswith(\"l\"))\n",
        "# print(q.endswith(\"e\"))\n"
      ],
      "metadata": {
        "colab": {
          "base_uri": "https://localhost:8080/"
        },
        "id": "tjCmd5ie5Pm2",
        "outputId": "9d79f70c-bdf1-46fb-970d-d0dabf81e4fb"
      },
      "execution_count": null,
      "outputs": [
        {
          "output_type": "stream",
          "name": "stdout",
          "text": [
            "True\n",
            "False\n",
            "True\n"
          ]
        }
      ]
    },
    {
      "cell_type": "markdown",
      "source": [
        "wap to check the string with either phrase or castle"
      ],
      "metadata": {
        "id": "9svsojIK4DdQ"
      }
    },
    {
      "cell_type": "code",
      "source": [
        "X=\"hello welcome to my  castle\"\n",
        "print(X.endswith(\"castle\"))"
      ],
      "metadata": {
        "id": "9XLmBaVB4OH6",
        "colab": {
          "base_uri": "https://localhost:8080/"
        },
        "outputId": "7d2d57f9-ec4a-484b-b9f5-05c3d73e2d9d"
      },
      "execution_count": null,
      "outputs": [
        {
          "output_type": "stream",
          "name": "stdout",
          "text": [
            "True\n"
          ]
        }
      ]
    },
    {
      "cell_type": "markdown",
      "source": [
        "STARTSWITH / ENDSWITH FUNCTION-->>"
      ],
      "metadata": {
        "id": "pFoqljYs2ty1"
      }
    },
    {
      "cell_type": "code",
      "source": [
        "X=\"hello welcome in my world\"\n",
        "print(X.startswith(\"h\"))\n",
        "print(X.startswith(\"w\",2,30))\n"
      ],
      "metadata": {
        "colab": {
          "base_uri": "https://localhost:8080/"
        },
        "id": "Ya5uAMr_266b",
        "outputId": "4aeec07c-5089-4a1c-f3d2-3f82307e4d64"
      },
      "execution_count": null,
      "outputs": [
        {
          "output_type": "stream",
          "name": "stdout",
          "text": [
            "True\n",
            "False\n"
          ]
        }
      ]
    },
    {
      "cell_type": "markdown",
      "source": [
        "COUNT FUNCTION-->>"
      ],
      "metadata": {
        "id": "6g7jgbNN15u2"
      }
    },
    {
      "cell_type": "code",
      "source": [
        "X=\"hello welcome in my world\"\n",
        "print(X.count(\"e\"))\n",
        "print(X.count(\"e\",1,10))"
      ],
      "metadata": {
        "colab": {
          "base_uri": "https://localhost:8080/"
        },
        "id": "YFr8pwOL19w8",
        "outputId": "1da45e34-f7f4-458c-a620-dc7d316b1a31"
      },
      "execution_count": null,
      "outputs": [
        {
          "output_type": "stream",
          "name": "stdout",
          "text": [
            "3\n",
            "2\n"
          ]
        }
      ]
    },
    {
      "cell_type": "code",
      "source": [
        "X=\"hello welcome in my world\"\n",
        "print(X.find(\"Q\"))\n",
        "print(X.find(\"e\",5,10))\n",
        "#print(X.index(\"Q\")) it gives error"
      ],
      "metadata": {
        "colab": {
          "base_uri": "https://localhost:8080/"
        },
        "id": "N5fe5XrY1INI",
        "outputId": "f2de888c-0bf9-4068-e8bb-a1948c929643"
      },
      "execution_count": null,
      "outputs": [
        {
          "output_type": "stream",
          "name": "stdout",
          "text": [
            "-1\n",
            "7\n"
          ]
        }
      ]
    },
    {
      "cell_type": "markdown",
      "source": [
        "find has 3 parameter -->>\n",
        "\n",
        "1.the value you want to search\n",
        "\n",
        "2.\n",
        "\n",
        "3."
      ],
      "metadata": {
        "id": "xOCHo3ZO0nXd"
      }
    },
    {
      "cell_type": "markdown",
      "source": [
        "SPLIT and JOIN-->>aplication of reaplace ,strip,join,split are same"
      ],
      "metadata": {
        "id": "0g24ZjjawLoS"
      }
    },
    {
      "cell_type": "code",
      "source": [
        "X=\"This is a python programming class:\"\n",
        "token=X.split()\n",
        "print(token)\n",
        "print(\"@\".join(token))\n",
        "print(X.find(\"python\"))  #-->>give the index number it find the first accurance of the spacific value it will return -1 if value is not found.\n",
        "print(X.find(\"python\",2,5))\n",
        "print(X.find(\"i\",2,5))"
      ],
      "metadata": {
        "colab": {
          "base_uri": "https://localhost:8080/"
        },
        "id": "ryoV7GOxwaJe",
        "outputId": "acf57c4d-b2b5-4eef-aeeb-0d4c14f32b19"
      },
      "execution_count": null,
      "outputs": [
        {
          "output_type": "stream",
          "name": "stdout",
          "text": [
            "['This', 'is', 'a', 'python', 'programming', 'class:']\n",
            "This@is@a@python@programming@class:\n",
            "10\n",
            "-1\n",
            "2\n"
          ]
        }
      ]
    },
    {
      "cell_type": "markdown",
      "source": [
        "APPLICATION OF replace and strip-->>\n",
        "\n",
        "1.we can use to remove the white spalaces or special char\n",
        "\n",
        "2.strip fun remove the leading and special char or white splaces whereas replace remove the char can be at any position\n",
        "\n",
        "3.the application of these fun the preproccesing or cleaning the data set AI(nlp)."
      ],
      "metadata": {
        "id": "byKVZfeuvO-W"
      }
    },
    {
      "cell_type": "markdown",
      "source": [
        "in raplace it remove every position character that we want-->>"
      ],
      "metadata": {
        "id": "dgPN6qDAusl2"
      }
    },
    {
      "cell_type": "code",
      "source": [
        "X=\"@ra@hul\"\n",
        "print(X.strip(\"@\"))# strip kevl starting or one character hi strip karata h\n",
        "print(X.replace(\"@\",\"T\"))"
      ],
      "metadata": {
        "id": "RvsDrhlru4GA",
        "colab": {
          "base_uri": "https://localhost:8080/"
        },
        "outputId": "5fbfd855-493a-4c2c-f037-43e4a87a6e83"
      },
      "execution_count": null,
      "outputs": [
        {
          "output_type": "stream",
          "name": "stdout",
          "text": [
            "ra@hul\n",
            "TraThul\n"
          ]
        }
      ]
    },
    {
      "cell_type": "markdown",
      "source": [
        "STRIP:--"
      ],
      "metadata": {
        "id": "PPsAbbbswdWo"
      }
    },
    {
      "cell_type": "code",
      "source": [
        "X=\"@rahul\"\n",
        "print(X.strip(\"@\"))\n",
        "print(X.replace(\"@\",\" \"))#-->it add the space and remove the ch"
      ],
      "metadata": {
        "colab": {
          "base_uri": "https://localhost:8080/"
        },
        "id": "fDxn22YpwhH0",
        "outputId": "11f20410-f13c-4fb8-8915-b066c372b621"
      },
      "execution_count": null,
      "outputs": [
        {
          "output_type": "stream",
          "name": "stdout",
          "text": [
            "rahul\n",
            " rahul\n"
          ]
        }
      ]
    },
    {
      "cell_type": "markdown",
      "source": [
        "UPPER AND LOWER CASE :--\n",
        "\n",
        "1.we can use this method in machine learning and deep learning\n",
        "\n",
        "2.the data set be model should be consistent this concept.\n",
        "\n"
      ],
      "metadata": {
        "id": "YnstnPQOvvAp"
      }
    },
    {
      "cell_type": "code",
      "source": [
        "X=\"RAHuL\"\n",
        "print(X.lower())"
      ],
      "metadata": {
        "colab": {
          "base_uri": "https://localhost:8080/"
        },
        "id": "EprxhgAJwQBn",
        "outputId": "ab1c4e07-23a5-4847-e340-fe9bf149375d"
      },
      "execution_count": null,
      "outputs": [
        {
          "output_type": "stream",
          "name": "stdout",
          "text": [
            "rahul\n"
          ]
        }
      ]
    },
    {
      "cell_type": "markdown",
      "source": [
        "Q.reverse a string"
      ],
      "metadata": {
        "id": "M1qRAhYjtTWG"
      }
    },
    {
      "cell_type": "code",
      "source": [
        "name=\"RAHUL\"\n",
        "rev=\"\"\n",
        "for ch in name :\n",
        "  rev=ch+rev\n",
        "print(rev)"
      ],
      "metadata": {
        "colab": {
          "base_uri": "https://localhost:8080/"
        },
        "id": "7zMHFYrdtYIq",
        "outputId": "9fba38ae-3e0e-4254-8689-48c651b91efb"
      },
      "execution_count": null,
      "outputs": [
        {
          "output_type": "stream",
          "name": "stdout",
          "text": [
            "LUHAR\n"
          ]
        }
      ]
    },
    {
      "cell_type": "code",
      "source": [
        "a=\"rahul\"\n",
        "rev=\" \"\n",
        "rev=a[ ::-1]\n",
        "print(rev)\n",
        "#a[0]=\"B\" ? why show this erro?\n",
        "#print(a)"
      ],
      "metadata": {
        "colab": {
          "base_uri": "https://localhost:8080/"
        },
        "id": "ilNtMdOuuOOL",
        "outputId": "b9ae4365-0d10-47e1-d3c5-451013e84480"
      },
      "execution_count": null,
      "outputs": [
        {
          "output_type": "stream",
          "name": "stdout",
          "text": [
            "luhar\n"
          ]
        }
      ]
    },
    {
      "cell_type": "code",
      "source": [
        "s1=\"this is a string \"\n",
        "s2=\"this\"+\"is\"+'a'+\"string\"\n",
        "print(s2)\n",
        "s3=\"this is a \\\n",
        "           single line \"\n",
        "print(s3)\n",
        "print(\"the length of string :\",len(s3))\n",
        "print(\"first ch:\",s3[0])\n",
        "s4=\"#this is a comment\"\n",
        "s5=s4[:]\n",
        "print(s5)\n",
        "s5=s4[2:6] #-->this concept known as slicing it is used for data split their daata set into their train and test subset\n",
        "print(s5)\n",
        "name =\"rahul\"\n",
        "for ch in name : #-->when we know the character in string nut it not show the value of i .\n",
        "  print(ch,end=\"*\\n\")\n",
        "s5=\"loop\"\n",
        "for i in range(len(s5)):\n",
        "    print(-i,s5[-i])"
      ],
      "metadata": {
        "colab": {
          "base_uri": "https://localhost:8080/"
        },
        "id": "kq1F7TrPngEz",
        "outputId": "5a7a8f61-12ae-499c-c70f-84c65b585d4c"
      },
      "execution_count": null,
      "outputs": [
        {
          "output_type": "stream",
          "name": "stdout",
          "text": [
            "thisisastring\n",
            "this is a            single line \n",
            "the length of string : 33\n",
            "first ch: t\n",
            "#this is a comment\n",
            "his \n",
            "r*\n",
            "a*\n",
            "h*\n",
            "u*\n",
            "l*\n",
            "0 l\n",
            "-1 p\n",
            "-2 o\n",
            "-3 o\n"
          ]
        }
      ]
    },
    {
      "cell_type": "markdown",
      "source": [
        "STRING are the aaray of the representing unique code character .There is no seprate data type .\n",
        "\n",
        "1.string can be created using double coma,single coma\n",
        "\n",
        "excess indivisual char using indexing 0\n",
        "\n",
        "string are inmutulate.\n",
        "\n",
        "string can be repeated by multiple times.\n",
        "\n",
        "the fn used for called string"
      ],
      "metadata": {
        "id": "JSg-AL1ck8wu"
      }
    },
    {
      "cell_type": "markdown",
      "source": [
        "1.int -use for the categorical encodings ,class id's,one hot indexing and token id's in nlp\n",
        "\n",
        "2.float:-it rapresent real world value data like features , predication ,gradient,and weights\n",
        "\n",
        "3.complex:--use to signal proccesing ,audio and image analysis,spectral methods such as FFT in EEG\n",
        "\n",
        "4.Float32/float64:--standard in deep learning fram works like pytorch and tensorflow to blance precision and memeory uses\n",
        "\n",
        "int32/int64:--usefull for labels indexing arrays/tensor and specifing sequence length"
      ],
      "metadata": {
        "id": "pTSZc3n8tAl7"
      }
    },
    {
      "cell_type": "code",
      "source": [
        "power_levels=[86,92.5,75,88.0,91]\n",
        "if power_levels:\n",
        "  avarage=sum(power_levels)/len(power_levels)\n",
        "  avarage=round(avarage,2) #round of fnction\n",
        "\n",
        "else:\n",
        "  avarage=0\n",
        "\n",
        "print(avarage)"
      ],
      "metadata": {
        "colab": {
          "base_uri": "https://localhost:8080/"
        },
        "id": "5qlKh-eLvLzr",
        "outputId": "363d1d27-da57-4661-a406-b959b77650a3"
      },
      "execution_count": null,
      "outputs": [
        {
          "output_type": "stream",
          "name": "stdout",
          "text": [
            "86.5\n"
          ]
        }
      ]
    },
    {
      "cell_type": "markdown",
      "source": [
        "INTERVIEW TIPS:-- never understimate input validation an empty list or incorrect data analist can colaps your algorithm."
      ],
      "metadata": {
        "id": "-sr0R8Y6z7wX"
      }
    },
    {
      "cell_type": "markdown",
      "source": [
        "DATA TYPE:--1.numeric ,2.TEXT,3.sequence,4.mapping,5.binary,6.none\n",
        "\n",
        "1.numeric:--int,float,complex\n",
        "\n",
        "            x=10,x=3.14,x=3+2j\n",
        "\n",
        "2.text:--string\n",
        "\n",
        "          x=\"rahul\"\n",
        "\n",
        "3.sequence:--list,tuple,range\n",
        "\n",
        "            x=[1,2,Rahul]\n",
        "\n",
        "4.mapping:--dict\n",
        "\n",
        "5.Binary:-- bytes,memoryview,bytesarray\n"
      ],
      "metadata": {
        "id": "frgVO-Rirx-E"
      }
    },
    {
      "cell_type": "markdown",
      "source": [
        "\n",
        "\n",
        "\n",
        "\n",
        "\n",
        "globle and local variable"
      ],
      "metadata": {
        "id": "Q8hCo1h2vE3g"
      }
    },
    {
      "cell_type": "code",
      "source": [
        "msg1=\"hii\" #<--globle variable\n",
        "def greet():\n",
        "  msg=\"hello\"\n",
        "  print(msg)\n",
        "  print(msg1)\n",
        "\n",
        "greet()\n",
        "print(\"outside local scope:\",msg1) #<--output"
      ],
      "metadata": {
        "id": "v1A4i0Nz8Sl2",
        "colab": {
          "base_uri": "https://localhost:8080/"
        },
        "outputId": "b46c31a9-ce30-44b8-9c0d-bf0c2cf35531"
      },
      "execution_count": null,
      "outputs": [
        {
          "output_type": "stream",
          "name": "stdout",
          "text": [
            "hello\n",
            "hii\n",
            "outside local scope: hii\n"
          ]
        }
      ]
    },
    {
      "cell_type": "markdown",
      "source": [
        "swap variable\n"
      ],
      "metadata": {
        "id": "DM49y82NCOUL"
      }
    },
    {
      "cell_type": "code",
      "source": [
        "thanos_score=146\n",
        "thor_score=200\n",
        "thanos_score,thor_score=thor_score,thanos_score\n",
        "print(thanos_score,thor_score)\n"
      ],
      "metadata": {
        "colab": {
          "base_uri": "https://localhost:8080/"
        },
        "id": "w37whelGqF1L",
        "outputId": "3aa7c628-48b0-44c2-e61f-6580a04ea7b8"
      },
      "execution_count": null,
      "outputs": [
        {
          "output_type": "stream",
          "name": "stdout",
          "text": [
            "200 146\n"
          ]
        }
      ]
    },
    {
      "cell_type": "markdown",
      "source": [
        "typcating of veairables\n"
      ],
      "metadata": {
        "id": "8XfFvi05mj9O"
      }
    },
    {
      "cell_type": "code",
      "source": [
        "val =\"10\"\n",
        "val_new=int(val)\n",
        "print(val_new)\n",
        "val1_new=str(val)\n",
        "print(val1_new)"
      ],
      "metadata": {
        "colab": {
          "base_uri": "https://localhost:8080/"
        },
        "id": "yw07pF80mlyR",
        "outputId": "4c8c75c6-f70b-4df6-a7a4-1b63e2dfd495"
      },
      "execution_count": null,
      "outputs": [
        {
          "output_type": "stream",
          "name": "stdout",
          "text": [
            "10\n",
            "10\n"
          ]
        }
      ]
    },
    {
      "cell_type": "markdown",
      "source": [
        "A.hulk strength level is recorded as a string input 1000 convert it into integer and increase by 200\n",
        "\n",
        "B. doctore strange recorde the time in second but accidently input in the form of string value is 6000 convert it in intezer and convert it into hours"
      ],
      "metadata": {
        "id": "vLTCJYdSnmE8"
      }
    },
    {
      "cell_type": "code",
      "source": [
        "hulk_strength=\"1000\"\n",
        "hulk_new=int(hulk_strength)\n",
        "print(hulk_new+200)\n",
        "dr_strange=\"6000\"\n",
        "dr_new=int(dr_strange)\n",
        "print(dr_new/60)"
      ],
      "metadata": {
        "id": "up_SWw51o2WP",
        "colab": {
          "base_uri": "https://localhost:8080/"
        },
        "outputId": "fcbc6407-f613-4f6e-ef01-9b1f1d9ab532"
      },
      "execution_count": null,
      "outputs": [
        {
          "output_type": "stream",
          "name": "stdout",
          "text": [
            "1200\n",
            "100.0\n"
          ]
        }
      ]
    },
    {
      "cell_type": "markdown",
      "source": [
        "C.lokii recorded seven hits out of ten shots both in integer convert them into flot and the calcute the accurecy pracentage\n"
      ],
      "metadata": {
        "id": "LaTdTVlHpBUh"
      }
    },
    {
      "cell_type": "code",
      "source": [
        "shots_total=10\n",
        "hits=7\n",
        "acc=(float(hits)/float(shots_total))*100\n",
        "print( f\"Accuracy:{acc:.2f} %\")"
      ],
      "metadata": {
        "colab": {
          "base_uri": "https://localhost:8080/"
        },
        "id": "jaAVHSfZpYAO",
        "outputId": "cccfc9e5-caa6-4b7e-8250-9e0fea4afc47"
      },
      "execution_count": null,
      "outputs": [
        {
          "output_type": "stream",
          "name": "stdout",
          "text": [
            "Accuracy:70.00 %\n"
          ]
        }
      ]
    },
    {
      "cell_type": "markdown",
      "source": [
        "D .Thor hammer weight is 5000g in tnteze but you need calculate gravitationl force which require it is a float"
      ],
      "metadata": {
        "id": "JU_TFuMYqr8W"
      }
    },
    {
      "cell_type": "code",
      "source": [
        "thor=float('5000')\n",
        "print(thor*9.8)\n"
      ],
      "metadata": {
        "colab": {
          "base_uri": "https://localhost:8080/"
        },
        "id": "QwUIQ080Rh60",
        "outputId": "88c1d2dd-1e79-4249-cb74-1d06a1c4cc47"
      },
      "execution_count": null,
      "outputs": [
        {
          "output_type": "stream",
          "name": "stdout",
          "text": [
            "49000.0\n"
          ]
        }
      ]
    },
    {
      "cell_type": "markdown",
      "source": [
        "2.reassigning a variable does not affect other variable refrencing same object unless we append this variable\n"
      ],
      "metadata": {
        "id": "WVvC-oMGqivz"
      }
    },
    {
      "cell_type": "code",
      "source": [
        "a=[1,2,3]\n",
        "b=a\n",
        "b=[4,5,6]\n",
        "print(\"a\",a)\n",
        "print(\"b\",b)\n",
        "del a  #for free up  the memory we can use this\n",
        "print(a)"
      ],
      "metadata": {
        "colab": {
          "base_uri": "https://localhost:8080/"
        },
        "id": "RI9htISZqmMU",
        "outputId": "bc2502e8-5454-4cc5-e893-f0b389ea005a"
      },
      "execution_count": null,
      "outputs": [
        {
          "output_type": "stream",
          "name": "stdout",
          "text": [
            "a [1, 2, 3]\n",
            "b [4, 5, 6]\n",
            "[1, 2, 3]\n"
          ]
        }
      ]
    },
    {
      "cell_type": "markdown",
      "source": [
        "object refrence"
      ],
      "metadata": {
        "id": "ayv7gUAWs5o3"
      }
    },
    {
      "cell_type": "code",
      "source": [
        "shield=[\"uibranium\",\"round\"]\n",
        "copy_shield=shield\n",
        "print(\"original shield stored:\",shield)\n",
        "print(\"wolverine changes the shield material.\")\n",
        "copy_shield[0]=\"adamantium\"\n",
        "print(\"new shield is:\",shield)"
      ],
      "metadata": {
        "colab": {
          "base_uri": "https://localhost:8080/"
        },
        "id": "A39xAu0Ds_qu",
        "outputId": "91c3b4d8-9c3b-4121-dd6c-bb6992ff1d2c"
      },
      "execution_count": null,
      "outputs": [
        {
          "output_type": "stream",
          "name": "stdout",
          "text": [
            "original shield stored: ['uibranium', 'round']\n",
            "wolverine changes the shield material.\n",
            "new shield is: ['adamantium', 'round']\n"
          ]
        }
      ]
    },
    {
      "cell_type": "markdown",
      "source": [
        "a=[81,82,83]\n",
        "b=[81,82,83]"
      ],
      "metadata": {
        "id": "ZQvixs5Eu_t1"
      }
    },
    {
      "cell_type": "code",
      "source": [
        "a=[81,82,83]\n",
        "b=[81,82,83]\n",
        "print(a is b)\n",
        "print(a==b)"
      ],
      "metadata": {
        "colab": {
          "base_uri": "https://localhost:8080/"
        },
        "id": "ekcmUPXJvI5H",
        "outputId": "6c33849d-9f1c-46cc-a6e6-a2ba6d1c2df4"
      },
      "execution_count": null,
      "outputs": [
        {
          "output_type": "stream",
          "name": "stdout",
          "text": [
            "False\n",
            "True\n"
          ]
        }
      ]
    },
    {
      "cell_type": "markdown",
      "source": [
        "Q.string operation"
      ],
      "metadata": {
        "id": "_hILgUOjDH9k"
      }
    },
    {
      "cell_type": "code",
      "source": [
        "X=\"hEllo\"\n",
        "print(X.upper())\n",
        "print(X.lower())\n",
        "print(X.replace('o','O'))\n",
        "print(X[1:5])\n",
        "print(X.title())\n",
        "print(X.swapcase())\n",
        "print(X.capitalize())\n",
        "\n",
        "print(X.count('l'))\n",
        "print(X.casefold())\n",
        "print(X.center(50))\n",
        "\n"
      ],
      "metadata": {
        "colab": {
          "base_uri": "https://localhost:8080/"
        },
        "id": "pw_qB1y_DOFG",
        "outputId": "68687281-ce34-4fa1-941c-21a13bdb0435"
      },
      "execution_count": null,
      "outputs": [
        {
          "output_type": "stream",
          "name": "stdout",
          "text": [
            "HELLO\n",
            "hello\n",
            "hEllO\n",
            "Ello\n",
            "Hello\n",
            "HeLLO\n",
            "Hello\n",
            "2\n",
            "hello\n",
            "                      hEllo                       \n"
          ]
        }
      ]
    },
    {
      "cell_type": "markdown",
      "source": [
        "AVARAGE FIND\n"
      ],
      "metadata": {
        "id": "G-mz0c3M-kvZ"
      }
    },
    {
      "cell_type": "code",
      "source": [
        "import statistics\n",
        "powerlevel={\"Iron_man\":98,\"Hulk\":100}\n",
        "              #KEY    VALUE\n",
        "avg_level=statistics.mean(powerlevel.values())\n",
        "print(avg_level)\n"
      ],
      "metadata": {
        "colab": {
          "base_uri": "https://localhost:8080/"
        },
        "id": "nYQENYL71ksO",
        "outputId": "2e550b4c-bf7a-4067-aba3-653cc393104e"
      },
      "execution_count": null,
      "outputs": [
        {
          "output_type": "stream",
          "name": "stdout",
          "text": [
            "99\n"
          ]
        }
      ]
    },
    {
      "cell_type": "markdown",
      "source": [
        "INTERVIEW TIPS:-\n",
        "\n",
        "1.Dictionry vs list:-dic. is best when data can be mapped.List works when order aor sequence matters.\n",
        "\n",
        "2.Efficiency:--compute the avarage in one pass using built in function or libraries.\n",
        "\n",
        "3.keep the time complexity in the mind."
      ],
      "metadata": {
        "id": "rOH4ei2Q3-Zr"
      }
    },
    {
      "cell_type": "markdown",
      "source": [
        "  Q.1 WRITE the python program to find largest and smallest in list."
      ],
      "metadata": {
        "id": "nW53Qsmw_Af1"
      }
    },
    {
      "cell_type": "code",
      "source": [
        "num=[4,7,1,9,12,3]\n",
        "min=max=num[0]\n",
        "for n in num:\n",
        "  if n<min:\n",
        "    min=n\n",
        "  if n>max:\n",
        "    max=n\n",
        "print(f\"max is{max}and min is {min}\")"
      ],
      "metadata": {
        "colab": {
          "base_uri": "https://localhost:8080/"
        },
        "id": "CpaseAQX_b7M",
        "outputId": "e2e97c95-e398-4161-f4e9-20978f117313"
      },
      "execution_count": null,
      "outputs": [
        {
          "output_type": "stream",
          "name": "stdout",
          "text": [
            "max is12and min is 1\n"
          ]
        }
      ]
    },
    {
      "cell_type": "markdown",
      "source": [
        "Q.2 ROTATE a list to the right by K step."
      ],
      "metadata": {
        "id": "39JbgR5f_MAS"
      }
    },
    {
      "cell_type": "code",
      "source": [
        "num=[1,2,3,4,5]\n",
        "k=2\n",
        "k=k%len(num)\n",
        "rotated=num[-k: ]+num[ :-k]\n",
        "print(rotated)"
      ],
      "metadata": {
        "colab": {
          "base_uri": "https://localhost:8080/"
        },
        "id": "k13jzLIWCK8L",
        "outputId": "fe37806a-d736-47cd-a357-31a8f7e79d64"
      },
      "execution_count": null,
      "outputs": [
        {
          "output_type": "stream",
          "name": "stdout",
          "text": [
            "[4, 5, 1, 2, 3]\n"
          ]
        }
      ]
    }
  ],
  "metadata": {
    "colab": {
      "provenance": [],
      "include_colab_link": true
    },
    "kernelspec": {
      "display_name": "Python 3",
      "name": "python3"
    }
  },
  "nbformat": 4,
  "nbformat_minor": 0
}