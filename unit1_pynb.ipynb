{
  "cells": [
    {
      "cell_type": "markdown",
      "metadata": {
        "id": "view-in-github",
        "colab_type": "text"
      },
      "source": [
        "<a href=\"https://colab.research.google.com/github/RAHUL120244/unit1.py/blob/main/unit1_pynb.ipynb\" target=\"_parent\"><img src=\"https://colab.research.google.com/assets/colab-badge.svg\" alt=\"Open In Colab\"/></a>"
      ]
    },
    {
      "cell_type": "markdown",
      "source": [
        "Q.Given a dictonary of fruits apple:200,avacado:700,bnana:50,cherry:1500 you need to find two items that add of two your budgget of 900?"
      ],
      "metadata": {
        "id": "QOqMcrDrTF_L"
      }
    },
    {
      "cell_type": "code",
      "source": [
        "fruits={\"apple\":200,\"avacado\":700,\"bnana\":50,\"cherry\":1500}\n",
        "for i in fruits:\n",
        "  for j in fruits:\n",
        "    if  fruits[i]+fruits[j]==900:\n",
        "      print(i,j)\n",
        "      #OR\n",
        "fruits = {\"apple\": 200, \"avacado\": 700, \"bnana\": 50, \"cherry\": 1500}\n",
        "budget = 900\n",
        "price_map = {} # Create an empty dictionary to store prices\n",
        "\n",
        "for fruit, price in fruits.items():\n",
        "  complement = budget - price\n",
        "  if complement in price_map:\n",
        "    print(price_map[complement], fruit)\n",
        "  price_map[price] = fruit\n",
        "\n"
      ],
      "metadata": {
        "colab": {
          "base_uri": "https://localhost:8080/"
        },
        "id": "OBgE_GQbT2b2",
        "outputId": "bf141162-51a9-4464-857c-00fa038c2a08"
      },
      "execution_count": null,
      "outputs": [
        {
          "output_type": "stream",
          "name": "stdout",
          "text": [
            "apple avacado\n",
            "avacado apple\n",
            "apple avacado\n"
          ]
        }
      ]
    },
    {
      "cell_type": "markdown",
      "source": [
        "DICTIONARY METHOD:--"
      ],
      "metadata": {
        "id": "GJYjFGqpOHw0"
      }
    },
    {
      "cell_type": "code",
      "source": [
        "# Define a dictionary named avengers\n",
        "avengers={\"name\":\"iron_man\",\n",
        "    \"power\":\"suit\",\n",
        "      \"team\":\"avenger\"\n",
        "}\n",
        "# Create a shallow copy of the avengers dictionary\n",
        "temp=avengers.copy()\n",
        "# Clear all items from the temp dictionary\n",
        "temp.clear()\n",
        "# Print the temp dictionary after clearing\n",
        "print(\"1.clear():\",temp)\n",
        "# Print the original avengers dictionary\n",
        "print(\"2.avengers:\",avengers)\n",
        "# Define a set of keys for a new dictionary\n",
        "keys={'thor','hulk'}\n",
        "# Create a new dictionary from keys with a default value\n",
        "new_team=dict.fromkeys(keys,\"avengers\")\n",
        "# Print the new_team dictionary\n",
        "print(\"2.fromkeys():\",new_team)\n",
        "# Get the value associated with the key \"name\"\n",
        "print(\"3.get():\",avengers.get(\"name\"))\n",
        "# Get a view object of key-value pairs\n",
        "print(\"4.items():\",avengers.items())\n",
        "# Get a view object of keys\n",
        "print(\"5.keys():\",avengers.keys())\n",
        "# Get a view object of values\n",
        "print(\"6.values():\",avengers.values())\n",
        "poped_item=avengers.pop(\"team\")\n",
        "print(\"7.pop():\",poped_item)\n",
        "# Remove and return the last inserted item\n",
        "poped_item=avengers.popitem()\n",
        "print(\"8.popitem():\",poped_item)\n"
      ],
      "metadata": {
        "colab": {
          "base_uri": "https://localhost:8080/"
        },
        "id": "cWE0H0tmUQuh",
        "outputId": "deaa68b9-cd60-4ed8-e6bb-3d930fd8e74a"
      },
      "execution_count": null,
      "outputs": [
        {
          "output_type": "stream",
          "name": "stdout",
          "text": [
            "1.clear(): {}\n",
            "2.avengers: {'name': 'iron_man', 'power': 'suit', 'team': 'avenger'}\n",
            "2.fromkeys(): {'thor': 'avengers', 'hulk': 'avengers'}\n",
            "3.get(): iron_man\n",
            "4.items(): dict_items([('name', 'iron_man'), ('power', 'suit'), ('team', 'avenger')])\n",
            "5.keys(): dict_keys(['name', 'power', 'team'])\n",
            "6.values(): dict_values(['iron_man', 'suit', 'avenger'])\n",
            "7.pop(): avenger\n",
            "8.popitem(): ('power', 'suit')\n"
          ]
        }
      ]
    },
    {
      "cell_type": "markdown",
      "source": [
        "Nested dictionary"
      ],
      "metadata": {
        "id": "PJlRLoZSCbsu"
      }
    },
    {
      "cell_type": "code",
      "source": [
        "my_family = {\n",
        "  \"child1\" : {\n",
        "    \"name\" : \"Emil\",\n",
        "    \"year\" : 2004\n",
        "  },\n",
        "  \"child2\" : {\n",
        "    \"name\" : \"Tobias\",\n",
        "    \"year\" : 2007\n",
        "  },\n",
        "  \"child3\" : {\n",
        "    \"name\" : \"Linus\",\n",
        "    \"year\" : 2011\n",
        "  }\n",
        "}\n",
        "\n",
        "print(my_family)"
      ],
      "metadata": {
        "colab": {
          "base_uri": "https://localhost:8080/"
        },
        "id": "tEcZlPUlCgba",
        "outputId": "c01a7c9e-3f84-4f26-9f69-775f7ab878bc"
      },
      "execution_count": null,
      "outputs": [
        {
          "output_type": "stream",
          "name": "stdout",
          "text": [
            "{'child1': {'name': 'Emil', 'year': 2004}, 'child2': {'name': 'Tobias', 'year': 2007}, 'child3': {'name': 'Linus', 'year': 2011}}\n"
          ]
        }
      ]
    },
    {
      "cell_type": "markdown",
      "source": [
        "COPYING DICTIONARY:--"
      ],
      "metadata": {
        "id": "PMxvghOr-Mti"
      }
    },
    {
      "cell_type": "code",
      "source": [
        "car = {\n",
        "    \"model\": \"sedan\",\n",
        "    \"name\": \"Toyota Camry\",\n",
        "    \"year\": 2022\n",
        "}\n",
        "car_copy=car.copy() # mutable for main list\n",
        "car_copy['name']='blue'\n",
        "print(car)\n",
        "print(car_copy)\n",
        "car_copy=dict(car) # by this we can create copy\n",
        "for x in car:\n",
        "  print(x)\n",
        "for x in car.keys():\n",
        "  print(x)\n",
        "for x in car.values():\n",
        "  print(x)\n",
        "for K,V in car.items():\n",
        "  print(K, V)"
      ],
      "metadata": {
        "colab": {
          "base_uri": "https://localhost:8080/"
        },
        "id": "xWRq__hy_tVU",
        "outputId": "f9e260e5-018e-4657-84f7-bb74e68029f3"
      },
      "execution_count": null,
      "outputs": [
        {
          "output_type": "stream",
          "name": "stdout",
          "text": [
            "{'model': 'sedan', 'name': 'Toyota Camry', 'year': 2022}\n",
            "{'model': 'sedan', 'name': 'blue', 'year': 2022}\n",
            "model\n",
            "name\n",
            "year\n",
            "model\n",
            "name\n",
            "year\n",
            "sedan\n",
            "Toyota Camry\n",
            "2022\n",
            "model sedan\n",
            "name Toyota Camry\n",
            "year 2022\n"
          ]
        }
      ]
    },
    {
      "cell_type": "code",
      "source": [
        "X={'a':1,'b':2}\n",
        "Y=X\n",
        "print(id(X))\n",
        "print(id(Y))\n",
        "print(X==Y)\n",
        "print(X is Y)\n",
        "Z={'a':1,'b':2}\n",
        "print(X==Z)\n",
        "print(X is Z)\n",
        "Y={'c':3,'d':4}\n",
        "print(X)\n",
        "print(Y)\n",
        "#copy function:--"
      ],
      "metadata": {
        "colab": {
          "base_uri": "https://localhost:8080/"
        },
        "id": "OTVnAudH9KIk",
        "outputId": "591a3e1d-ae19-4bfd-a526-8158a58bc9a9"
      },
      "execution_count": null,
      "outputs": [
        {
          "output_type": "stream",
          "name": "stdout",
          "text": [
            "132511160225792\n",
            "132511160225792\n",
            "True\n",
            "True\n",
            "True\n",
            "False\n",
            "{'a': 1, 'b': 2}\n",
            "{'c': 3, 'd': 4}\n"
          ]
        }
      ]
    },
    {
      "cell_type": "code",
      "source": [
        "car = {\n",
        "    \"model\": \"sedan\",\n",
        "    \"name\": \"Toyota Camry\",\n",
        "    \"year\": 2022\n",
        "}\n",
        "print(car.pop('model'))\n",
        "print(car.popitem())\n",
        "print(car.clear())"
      ],
      "metadata": {
        "colab": {
          "base_uri": "https://localhost:8080/"
        },
        "id": "6jBk5JU_7Ojz",
        "outputId": "9d791670-3412-4ff2-9e9f-8b7063084308"
      },
      "execution_count": null,
      "outputs": [
        {
          "output_type": "stream",
          "name": "stdout",
          "text": [
            "sedan\n",
            "('year', 2022)\n",
            "None\n"
          ]
        }
      ]
    },
    {
      "cell_type": "code",
      "source": [
        "student=[\"arav\",\"risa\",\"ravi\"]\n",
        "marks=[70,80,92]\n",
        "dic={}\n",
        "for i in range(len(student)):\n",
        "  dic[student[i]]=marks[i]\n",
        "print(dic)\n",
        "#or\n",
        "{student[i]:marks[i] for i in range(len(student))}"
      ],
      "metadata": {
        "colab": {
          "base_uri": "https://localhost:8080/"
        },
        "id": "3LmkaUct-r6U",
        "outputId": "be099689-3bfc-41b8-fd71-a20b31056ff6"
      },
      "execution_count": null,
      "outputs": [
        {
          "output_type": "stream",
          "name": "stdout",
          "text": [
            "{'arav': 70, 'risa': 80, 'ravi': 92}\n"
          ]
        },
        {
          "output_type": "execute_result",
          "data": {
            "text/plain": [
              "{'arav': 70, 'risa': 80, 'ravi': 92}"
            ]
          },
          "metadata": {},
          "execution_count": 20
        }
      ]
    },
    {
      "cell_type": "code",
      "source": [
        "#.item key + value print kar dega"
      ],
      "metadata": {
        "id": "rivOa5Aa-Nlx"
      },
      "execution_count": null,
      "outputs": []
    },
    {
      "cell_type": "code",
      "source": [
        "f=[\"apple\",\"orange\",\"apple\",\"bnana\",\"apple\"]\n",
        "count={}\n",
        "for i in f:\n",
        "  count[i]=count.get(i,0)+1\n",
        "print(count)"
      ],
      "metadata": {
        "colab": {
          "base_uri": "https://localhost:8080/"
        },
        "id": "fuhIeJ7U8rZ2",
        "outputId": "b45786ee-cfde-4265-9a15-e787a6252821"
      },
      "execution_count": null,
      "outputs": [
        {
          "output_type": "stream",
          "name": "stdout",
          "text": [
            "{'apple': 3, 'orange': 1, 'bnana': 1}\n"
          ]
        }
      ]
    },
    {
      "cell_type": "code",
      "source": [
        "car=dict(brand=\"audi\",model=2008)\n",
        "print(car)"
      ],
      "metadata": {
        "colab": {
          "base_uri": "https://localhost:8080/"
        },
        "id": "j5KVcqPV5x10",
        "outputId": "cb810323-1f72-41c5-dc5f-c6cbd903de5c"
      },
      "execution_count": null,
      "outputs": [
        {
          "output_type": "stream",
          "name": "stdout",
          "text": [
            "{'brand': 'audi', 'model': 2008}\n"
          ]
        }
      ]
    },
    {
      "cell_type": "code",
      "source": [
        "dic={\"brand\":\"thar\",\"model no\":80,\"year\":2000}\n",
        "dic[\"model no\"]=\"auddy\"\n",
        "print(dic)\n",
        "print(dic.get(\"brand\")) #for get key valu\n",
        "print(dic.get(\"fuel\",'you have entered wrong key'))  #no key mathching\n",
        "car_key=dic.keys()\n",
        "print(car_key) #all keys are print\n",
        "dic[\"brand\"]='petrol'\n",
        "print(dic.keys())"
      ],
      "metadata": {
        "colab": {
          "base_uri": "https://localhost:8080/"
        },
        "id": "7W6MfTZx4KJH",
        "outputId": "da9220c5-a20f-47c0-d74f-2d79054217c2"
      },
      "execution_count": null,
      "outputs": [
        {
          "output_type": "stream",
          "name": "stdout",
          "text": [
            "{'brand': 'thar', 'model no': 'auddy', 'year': 2000}\n",
            "thar\n",
            "you have entered wrong key\n",
            "dict_keys(['brand', 'model no', 'year'])\n",
            "dict_keys(['brand', 'model no', 'year'])\n"
          ]
        }
      ]
    },
    {
      "cell_type": "markdown",
      "source": [
        "Q.if  A frame rate increase linearly over the temporal averaging\n",
        "what is the total normaliztion rate."
      ],
      "metadata": {
        "id": "i5xpsY4s1WPJ"
      }
    },
    {
      "cell_type": "markdown",
      "source": [
        "Q. print for loop 1 to 100 square until undred"
      ],
      "metadata": {
        "id": "bguJMfpq_GzM"
      }
    },
    {
      "cell_type": "code",
      "source": [
        "num=[]\n",
        "i=1\n",
        "while i**2<=100: #we can also use i*i\n",
        "  num.append(i*i)\n",
        "  i=i+1\n",
        "\n",
        "print(num)\n",
        "#using for loop:--\n",
        "num=[]\n",
        "for x in range (1,11):\n",
        "  num.append(x*x)\n",
        "print(num)\n",
        "#using for loop in list\n",
        "num=[]\n",
        "[num.append(x*x) for x in range(1,11)]\n",
        "print(num)"
      ],
      "metadata": {
        "colab": {
          "base_uri": "https://localhost:8080/"
        },
        "id": "wu3k5cML_zyb",
        "outputId": "b1c4ec9b-d8c6-4883-f006-ac151ea6439d"
      },
      "execution_count": null,
      "outputs": [
        {
          "output_type": "stream",
          "name": "stdout",
          "text": [
            "[1, 4, 9, 16, 25, 36, 49, 64, 81, 100]\n",
            "[1, 4, 9, 16, 25, 36, 49, 64, 81, 100]\n",
            "[1, 4, 9, 16, 25, 36, 49, 64, 81, 100]\n"
          ]
        }
      ]
    },
    {
      "cell_type": "markdown",
      "source": [
        "List loop:-"
      ],
      "metadata": {
        "id": "06u7wuy33xwh"
      }
    },
    {
      "cell_type": "code",
      "source": [
        "student_names=['rahul','sihag','vinod']\n",
        "# for loop\n",
        "for x in student_names:\n",
        "  print(x)\n",
        "for x in range(len(student_names)):\n",
        "  print(x,\":\",student_names[x])  #for index number ke sath list element print karna\n",
        "  #while loop\n",
        "i=0\n",
        "while i<len(student_names):\n",
        "  print(i,\":\",student_names[i])\n",
        "  i=i+1\n",
        " #list print:--\n",
        "#for x in student_names:\n",
        "[print(x) for x in student_names] # while se nhi hoga kyunki usko list me nahi likh sakate\n"
      ],
      "metadata": {
        "colab": {
          "base_uri": "https://localhost:8080/"
        },
        "id": "vaj64TEA32Av",
        "outputId": "509c8891-3b52-4308-a617-9e44004f88d9"
      },
      "execution_count": null,
      "outputs": [
        {
          "output_type": "stream",
          "name": "stdout",
          "text": [
            "rahul\n",
            "sihag\n",
            "vinod\n",
            "0 : rahul\n",
            "1 : sihag\n",
            "2 : vinod\n",
            "0 : rahul\n",
            "1 : sihag\n",
            "2 : vinod\n",
            "rahul\n",
            "sihag\n",
            "vinod\n"
          ]
        },
        {
          "output_type": "execute_result",
          "data": {
            "text/plain": [
              "[None, None, None]"
            ]
          },
          "metadata": {},
          "execution_count": 26
        }
      ]
    },
    {
      "cell_type": "markdown",
      "source": [
        "BITWISE OPERATORS"
      ],
      "metadata": {
        "id": "nWshzb6qPkqF"
      }
    },
    {
      "cell_type": "code",
      "source": [
        "print(5 &3)\n",
        "print(5|3)\n",
        "print(5^3)\n",
        "print(~5)\n",
        "print(-10//4/3)\n",
        "print(\"APPLE\" < \"apple\")\n",
        "print(True==2-3)"
      ],
      "metadata": {
        "colab": {
          "base_uri": "https://localhost:8080/"
        },
        "id": "66gedTi8PrI_",
        "outputId": "5b58599b-a280-44c6-87c5-adc68f78d2d3"
      },
      "execution_count": null,
      "outputs": [
        {
          "output_type": "stream",
          "name": "stdout",
          "text": [
            "1\n",
            "7\n",
            "6\n",
            "-6\n",
            "-1.0\n",
            "True\n",
            "False\n"
          ]
        }
      ]
    },
    {
      "cell_type": "markdown",
      "source": [
        "IDENTITY OPERATORS:--"
      ],
      "metadata": {
        "id": "zHLbYZ2wO2Mt"
      }
    },
    {
      "cell_type": "code",
      "source": [
        "a=[1,2,3]\n",
        "print(3 in a)\n",
        "print(\"a\" in \"banana\")\n",
        "print(\"nana\" in \"banana\")"
      ],
      "metadata": {
        "colab": {
          "base_uri": "https://localhost:8080/"
        },
        "id": "iK7X1D8DO6rL",
        "outputId": "60f61298-33b6-41aa-b3f1-fb051d8baca8"
      },
      "execution_count": null,
      "outputs": [
        {
          "output_type": "stream",
          "name": "stdout",
          "text": [
            "True\n",
            "True\n",
            "True\n"
          ]
        }
      ]
    },
    {
      "cell_type": "markdown",
      "source": [
        "LOGICAL OPERATOR:--"
      ],
      "metadata": {
        "id": "XqDTVCkaNXp4"
      }
    },
    {
      "cell_type": "code",
      "source": [
        "print(0 and 5)\n",
        "print(0 or 5)\n",
        "print(not 5)\n",
        "print([] and \"hii\")\n",
        "print([] or \"hii\")\n",
        "#a and b does not evaluate b if a is false .this called short circuiting\n"
      ],
      "metadata": {
        "colab": {
          "base_uri": "https://localhost:8080/"
        },
        "id": "CINCwmBSNb5w",
        "outputId": "0086a7a5-c5a6-40c1-9c67-179356ff0cbe"
      },
      "execution_count": null,
      "outputs": [
        {
          "output_type": "stream",
          "name": "stdout",
          "text": [
            "0\n",
            "5\n",
            "False\n",
            "[]\n",
            "hii\n"
          ]
        }
      ]
    },
    {
      "cell_type": "markdown",
      "source": [
        "COMPARISON OPERATORS"
      ],
      "metadata": {
        "id": "tHBTFW1wLArk"
      }
    },
    {
      "cell_type": "code",
      "source": [
        "x,y=10,10\n",
        "print(x==y)\n",
        "print(x !=y)\n",
        "print(x<y)\n",
        "print(x>y)\n",
        "print(x>=y)\n",
        "print(x<=y)\n",
        "print(10 == 10.0)\n",
        "print(\"10\"==10)\n",
        "print(True==1)\n",
        "print(True + True)"
      ],
      "metadata": {
        "colab": {
          "base_uri": "https://localhost:8080/"
        },
        "id": "mPnIEzjHLydX",
        "outputId": "ba0ef6b6-9bdf-414d-86fd-132066ee6d48"
      },
      "execution_count": null,
      "outputs": [
        {
          "output_type": "stream",
          "name": "stdout",
          "text": [
            "True\n",
            "False\n",
            "False\n",
            "False\n",
            "True\n",
            "True\n",
            "True\n",
            "False\n",
            "True\n",
            "2\n"
          ]
        }
      ]
    },
    {
      "cell_type": "markdown",
      "source": [
        "ASSIGNMENT:-"
      ],
      "metadata": {
        "id": "PUXQluCqHQnM"
      }
    },
    {
      "cell_type": "code",
      "source": [
        "X=5\n",
        "X*=2+3\n",
        "print(X)#precidense of asteric is <precidice of +noperator\n",
        "y=10\n",
        "y//=3 #floor devision\n",
        "print(y)\n",
        "Z=10\n",
        "Z%=3 #modulo\n",
        "print(Z)\n",
        "w=5\n",
        "w **=3 #exponent\n",
        "print(w)\n",
        "#why use assinment operators :--\n",
        "#code consistent and readability\n",
        "#efficiency(in place updation):in python operators like += try to update object in place\n",
        "a=[1,2]\n",
        "b=a\n",
        "a+=[3]\n",
        "print(a)\n",
        "\n",
        "a=[1,2]\n",
        "b=a\n",
        "a=a+[3]\n",
        "print(b)# output is 1,2 because a new list was created"
      ],
      "metadata": {
        "colab": {
          "base_uri": "https://localhost:8080/"
        },
        "id": "tORxNY1BHUS6",
        "outputId": "b976903f-774b-430e-88a3-b858df1316f6"
      },
      "execution_count": null,
      "outputs": [
        {
          "output_type": "stream",
          "name": "stdout",
          "text": [
            "25\n",
            "3\n",
            "1\n",
            "125\n",
            "[1, 2, 3]\n",
            "[1, 2]\n"
          ]
        }
      ]
    },
    {
      "cell_type": "code",
      "source": [
        "X=5\n",
        "X&=3\n",
        "print(X)\n",
        "X=5\n",
        "X |=3\n",
        "print(X)\n",
        "X=5\n",
        "X^=3\n",
        "print(X)\n",
        "X=5\n",
        "X=X>>1\n",
        "print(X)\n",
        "X=10\n",
        "X=X<<1\n",
        "print(X)\n",
        "print(X:=3)"
      ],
      "metadata": {
        "colab": {
          "base_uri": "https://localhost:8080/"
        },
        "id": "D_PTlxqCKciW",
        "outputId": "4878c5a6-979d-424e-b71c-85ecd4ef404d"
      },
      "execution_count": null,
      "outputs": [
        {
          "output_type": "stream",
          "name": "stdout",
          "text": [
            "1\n",
            "7\n",
            "6\n",
            "2\n",
            "20\n",
            "3\n"
          ]
        }
      ]
    },
    {
      "cell_type": "markdown",
      "source": [
        "OPERATORS:-"
      ],
      "metadata": {
        "id": "q8wpYFe5IN2Q"
      }
    },
    {
      "cell_type": "code",
      "source": [
        "A=10\n",
        "B=9\n",
        "print(A+B)\n",
        "print(A-B)\n",
        "print(A*B)\n",
        "print(A/B)\n",
        "print(A//B)\n",
        "print(A**B)\n",
        "c=2**3**2\n",
        "print(c) #// is floor devision\n",
        "print(-10//3)# python floor devision deffers from c++ in python you get the answer 4 where as in c++ we get -3\n",
        "print(A%B)"
      ],
      "metadata": {
        "colab": {
          "base_uri": "https://localhost:8080/"
        },
        "id": "WCIpWlT-FHC8",
        "outputId": "88425bb4-5b3f-48d2-d94a-f28bef10a27a"
      },
      "execution_count": null,
      "outputs": [
        {
          "output_type": "stream",
          "name": "stdout",
          "text": [
            "19\n",
            "1\n",
            "90\n",
            "1.1111111111111112\n",
            "1\n",
            "1000000000\n",
            "512\n",
            "-4\n",
            "1\n"
          ]
        }
      ]
    },
    {
      "cell_type": "markdown",
      "source": [
        "Q.check if any signal start with a and ends with c."
      ],
      "metadata": {
        "id": "SF2uhIr8xHJc"
      }
    },
    {
      "cell_type": "code",
      "source": [
        "s=[\"abcX\",\"axbyc\",\"a123c\",\"123\"]\n",
        "\n",
        "print(any(i.startswith('a') and i.endswith('c') for i in s))\n",
        "print(all(i.startswith('a') and i.endswith('c') for i in s))\n",
        "print(bool([]))\n",
        "print(bool(\" \"))"
      ],
      "metadata": {
        "colab": {
          "base_uri": "https://localhost:8080/"
        },
        "id": "N3dvyQrDxU71",
        "outputId": "99875ed0-047f-44ed-8dab-c6847aa2356b"
      },
      "execution_count": null,
      "outputs": [
        {
          "output_type": "stream",
          "name": "stdout",
          "text": [
            "True\n",
            "False\n",
            "False\n",
            "True\n"
          ]
        }
      ]
    },
    {
      "cell_type": "markdown",
      "source": [
        "** Boolean data type"
      ],
      "metadata": {
        "id": "ehfsw1NTopxR"
      }
    },
    {
      "cell_type": "code",
      "source": [
        "print(10>4)\n",
        "print(type(True)) #it define class of data type\n",
        "a,b=10,20\n",
        "print(a and b) #and gate\n",
        "print(a or b) #or gate operation\n",
        "print(10>9 and 9>8)\n",
        "print(5>3 or 2>3)\n",
        "print(not 5>3) # not gate\n",
        "print(1 ^ 0) #xor gate operation\n",
        "print(a^b)\n",
        "\n",
        "a=a^b\n",
        "b=a^b\n",
        "a=a^b\n",
        "print(a)\n",
        "print(b)\n",
        "print(bin(a))\n",
        "marks =[60,70,80]\n",
        "print(all(m>=40 for m in marks )) #for all we use all()\n",
        "print(any(m>=90 for m in marks )) #for any we use any()\n",
        "print(all([1,2,3]))\n",
        "print(any([0,0,0,0]))\n"
      ],
      "metadata": {
        "colab": {
          "base_uri": "https://localhost:8080/"
        },
        "id": "X-mDE3jxo2EA",
        "outputId": "b8906a45-2a27-4c84-e9cd-08bb64952236"
      },
      "execution_count": null,
      "outputs": [
        {
          "output_type": "stream",
          "name": "stdout",
          "text": [
            "True\n",
            "<class 'bool'>\n",
            "20\n",
            "10\n",
            "True\n",
            "True\n",
            "False\n",
            "1\n",
            "30\n",
            "20\n",
            "10\n",
            "0b10100\n",
            "True\n",
            "False\n",
            "True\n",
            "False\n"
          ]
        }
      ]
    },
    {
      "cell_type": "markdown",
      "source": [
        "we defined the usage of capitals in a word be right when one of the following cases holdes\n",
        "\n",
        "1.all letters in this words are capitals like USA\n",
        "\n",
        "2.all letters in this word are not capital like leetcode\n",
        "\n",
        "3.only first letter in this word is capital like Google\n",
        "\n",
        ".Given a string word,return true if usage of capitals in it is right e.g.->USA,Output->True\n",
        "\n",
        "input->FlaG,Output->false"
      ],
      "metadata": {
        "id": "AJ7gPDl1EQyI"
      }
    },
    {
      "cell_type": "code",
      "source": [
        "# X=input(\"enter any word\")\n",
        "# a=X.upper()\n",
        "# b=/\n",
        "X=\"USA\"\n",
        "if X.isupper():\n",
        "  print(\"true\")\n",
        "else:\n",
        "    print(\"false\")\n",
        "    #     OR\n",
        "Words=[\"USA\",\"India\",\"Pak\",\"china\"]\n",
        "for i in Words:\n",
        "  if i==i.upper() or i==i.lower() or i==i.title():\n",
        "    print(\"capital hai!\")\n",
        "  else :\n",
        "    print(\"captal nahi hai!\")"
      ],
      "metadata": {
        "colab": {
          "base_uri": "https://localhost:8080/"
        },
        "id": "sGKJAz5BFU8-",
        "outputId": "1afde11e-e7fb-432b-effe-01a4e71073e3"
      },
      "execution_count": null,
      "outputs": [
        {
          "output_type": "stream",
          "name": "stdout",
          "text": [
            "true\n",
            "capital hai!\n",
            "capital hai!\n",
            "capital hai!\n",
            "capital hai!\n"
          ]
        }
      ]
    },
    {
      "cell_type": "markdown",
      "source": [
        "Q.lokii tried to trick avenger ,check if loki is in it .if yes print \"enemy detected\"  ow \"all clear\""
      ],
      "metadata": {
        "id": "oFA_dVivD9mq"
      }
    },
    {
      "cell_type": "code",
      "source": [],
      "metadata": {
        "id": "wgRu0Ya3EP-S"
      },
      "execution_count": null,
      "outputs": []
    },
    {
      "cell_type": "markdown",
      "source": [
        "DIGIT METHOD -->>"
      ],
      "metadata": {
        "id": "uDX9MASzBemf"
      }
    },
    {
      "cell_type": "code",
      "source": [
        "X=\"5080\"\n",
        "print(X.isdigit())\n",
        "a=\"\\u0030\"\n",
        "print(a.isdigit())\n",
        "b=\"\\u0002\" #like powers\n",
        "print(b.isdigit())\n",
        "#check for phase or character is present in string-->> use of in\n",
        "avenger=\"thanos,thor,strange\"\n",
        "print(\"thor\" in avenger)\n",
        "#using if with in keyword\n",
        "if \"thor\" in avenger:\n",
        "  print(\"yes thor is prasent in avenger \")\n",
        "  # not in\n",
        "print(\"hulk\" not in avenger)\n",
        "  #not in with if\n",
        "if \"hulk\" not in avenger:\n",
        "    print(\"not in avenger\")\n",
        "\n"
      ],
      "metadata": {
        "colab": {
          "base_uri": "https://localhost:8080/"
        },
        "id": "nhsZa5NsBid1",
        "outputId": "4fa6681f-e262-4c7c-b77c-9c521d430f8e"
      },
      "execution_count": null,
      "outputs": [
        {
          "output_type": "stream",
          "name": "stdout",
          "text": [
            "True\n",
            "True\n",
            "False\n",
            "True\n",
            "yes thor is prasent in avenger \n",
            "True\n",
            "not in avenger\n"
          ]
        }
      ]
    },
    {
      "cell_type": "markdown",
      "source": [
        "Q.In a digital communication each transmitted signal starts with header and ends with footer, you are given a list of recieved signal signals and a defference signal ref.Write a code to check if any recieved signal had the same header and same footer as ref. signals=[\"hi01f\",\"h202g\",h303f\"]"
      ],
      "metadata": {
        "id": "b1mW0vtX5iuZ"
      }
    },
    {
      "cell_type": "code",
      "source": [],
      "metadata": {
        "id": "qAUlgLvmnznb"
      },
      "execution_count": null,
      "outputs": []
    },
    {
      "cell_type": "markdown",
      "source": [
        "Q.You are given a list of string words and a query Q return true if any word in words start with the same character as Q and ends with the same character as Q. words=[\"leetcode\",\"love\",\"code\",\"lamp\"] Q=[\"life\"]\n"
      ],
      "metadata": {
        "id": "tR618IuQ4miA"
      }
    },
    {
      "cell_type": "code",
      "source": [
        "q=[\"leetcode\",\"like\",\"love\"]\n",
        "for i in q:\n",
        "  print(i.startswith(\"l\") and i.endswith(\"e\"))\n",
        "\n",
        "\n",
        "\n",
        "# print(q.startswith(\"l\"))\n",
        "# print(q.endswith(\"e\"))\n"
      ],
      "metadata": {
        "colab": {
          "base_uri": "https://localhost:8080/"
        },
        "id": "tjCmd5ie5Pm2",
        "outputId": "6a02100d-b9c7-4669-81fc-e305f17b48f6"
      },
      "execution_count": null,
      "outputs": [
        {
          "output_type": "stream",
          "name": "stdout",
          "text": [
            "True\n",
            "True\n",
            "True\n"
          ]
        }
      ]
    },
    {
      "cell_type": "markdown",
      "source": [
        "wap to check the string with either phrase or castle"
      ],
      "metadata": {
        "id": "9svsojIK4DdQ"
      }
    },
    {
      "cell_type": "code",
      "source": [
        "X=\"hello welcome to my  castle\"\n",
        "print(X.endswith(\"castle\"))"
      ],
      "metadata": {
        "id": "9XLmBaVB4OH6",
        "colab": {
          "base_uri": "https://localhost:8080/"
        },
        "outputId": "a5b85423-5557-45a5-d4b7-bc1514cd4981"
      },
      "execution_count": null,
      "outputs": [
        {
          "output_type": "stream",
          "name": "stdout",
          "text": [
            "True\n"
          ]
        }
      ]
    },
    {
      "cell_type": "markdown",
      "source": [
        "STARTSWITH / ENDSWITH FUNCTION-->>"
      ],
      "metadata": {
        "id": "pFoqljYs2ty1"
      }
    },
    {
      "cell_type": "code",
      "source": [
        "X=\"hello welcome in my world\"\n",
        "print(X.startswith(\"h\"))\n",
        "print(X.startswith(\"w\",2,30))\n"
      ],
      "metadata": {
        "colab": {
          "base_uri": "https://localhost:8080/"
        },
        "id": "Ya5uAMr_266b",
        "outputId": "75c62666-20f0-4855-ad6e-bc984c4bdd59"
      },
      "execution_count": null,
      "outputs": [
        {
          "output_type": "stream",
          "name": "stdout",
          "text": [
            "True\n",
            "False\n"
          ]
        }
      ]
    },
    {
      "cell_type": "markdown",
      "source": [
        "COUNT FUNCTION-->>"
      ],
      "metadata": {
        "id": "6g7jgbNN15u2"
      }
    },
    {
      "cell_type": "code",
      "source": [
        "X=\"hello welcome in my world\"\n",
        "print(X.count(\"e\"))\n",
        "print(X.count(\"e\",1,10))"
      ],
      "metadata": {
        "colab": {
          "base_uri": "https://localhost:8080/"
        },
        "id": "YFr8pwOL19w8",
        "outputId": "cc90492b-7649-4ada-a703-016f8f4a1a71"
      },
      "execution_count": null,
      "outputs": [
        {
          "output_type": "stream",
          "name": "stdout",
          "text": [
            "3\n",
            "2\n"
          ]
        }
      ]
    },
    {
      "cell_type": "code",
      "source": [
        "X=\"hello welcome in my world\"\n",
        "print(X.find(\"Q\"))\n",
        "print(X.find(\"e\",5,10))\n",
        "#print(X.index(\"Q\")) it gives error"
      ],
      "metadata": {
        "colab": {
          "base_uri": "https://localhost:8080/"
        },
        "id": "N5fe5XrY1INI",
        "outputId": "0ecd2a06-1855-4167-f080-07c74dbe4ace"
      },
      "execution_count": null,
      "outputs": [
        {
          "output_type": "stream",
          "name": "stdout",
          "text": [
            "-1\n",
            "7\n"
          ]
        }
      ]
    },
    {
      "cell_type": "markdown",
      "source": [
        "find has 3 parameter -->>\n",
        "\n",
        "1.the value you want to search\n",
        "\n",
        "2.\n",
        "\n",
        "3."
      ],
      "metadata": {
        "id": "xOCHo3ZO0nXd"
      }
    },
    {
      "cell_type": "markdown",
      "source": [
        "SPLIT and JOIN-->>aplication of reaplace ,strip,join,split are same"
      ],
      "metadata": {
        "id": "0g24ZjjawLoS"
      }
    },
    {
      "cell_type": "code",
      "source": [
        "X=\"This is a python programming class:\"\n",
        "token=X.split()\n",
        "print(token)\n",
        "print(\"@\".join(token))\n",
        "print(X.find(\"python\"))  #-->>give the index number it find the first accurance of the spacific value it will return -1 if value is not found.\n",
        "print(X.find(\"python\",2,5))\n",
        "print(X.find(\"i\",2,5))"
      ],
      "metadata": {
        "colab": {
          "base_uri": "https://localhost:8080/"
        },
        "id": "ryoV7GOxwaJe",
        "outputId": "82662107-21c0-42cf-a0c0-2b3a2f7bfd25"
      },
      "execution_count": null,
      "outputs": [
        {
          "output_type": "stream",
          "name": "stdout",
          "text": [
            "['This', 'is', 'a', 'python', 'programming', 'class:']\n",
            "This@is@a@python@programming@class:\n",
            "10\n",
            "-1\n",
            "2\n"
          ]
        }
      ]
    },
    {
      "cell_type": "markdown",
      "source": [
        "APPLICATION OF replace and strip-->>\n",
        "\n",
        "1.we can use to remove the white spalaces or special char\n",
        "\n",
        "2.strip fun remove the leading and special char or white splaces whereas replace remove the char can be at any position\n",
        "\n",
        "3.the application of these fun the preproccesing or cleaning the data set AI(nlp)."
      ],
      "metadata": {
        "id": "byKVZfeuvO-W"
      }
    },
    {
      "cell_type": "markdown",
      "source": [
        "in raplace it remove every position character that we want-->>"
      ],
      "metadata": {
        "id": "dgPN6qDAusl2"
      }
    },
    {
      "cell_type": "code",
      "source": [
        "X=\"@ra@hul\"\n",
        "print(X.strip(\"@\"))# strip kevl starting or one character hi strip karata h\n",
        "print(X.replace(\"@\",\"T\"))"
      ],
      "metadata": {
        "id": "RvsDrhlru4GA",
        "colab": {
          "base_uri": "https://localhost:8080/"
        },
        "outputId": "7e0d6959-820f-4e22-b157-3c37a2b3cdde"
      },
      "execution_count": null,
      "outputs": [
        {
          "output_type": "stream",
          "name": "stdout",
          "text": [
            "ra@hul\n",
            "TraThul\n"
          ]
        }
      ]
    },
    {
      "cell_type": "markdown",
      "source": [
        "STRIP:--"
      ],
      "metadata": {
        "id": "PPsAbbbswdWo"
      }
    },
    {
      "cell_type": "code",
      "source": [
        "X=\"@rahul\"\n",
        "print(X.strip(\"@\"))\n",
        "print(X.replace(\"@\",\" \"))#-->it add the space and remove the ch"
      ],
      "metadata": {
        "colab": {
          "base_uri": "https://localhost:8080/"
        },
        "id": "fDxn22YpwhH0",
        "outputId": "c14d4fe6-edbd-45cc-a78b-9a12fd640f00"
      },
      "execution_count": null,
      "outputs": [
        {
          "output_type": "stream",
          "name": "stdout",
          "text": [
            "rahul\n",
            " rahul\n"
          ]
        }
      ]
    },
    {
      "cell_type": "markdown",
      "source": [
        "UPPER AND LOWER CASE :--\n",
        "\n",
        "1.we can use this method in machine learning and deep learning\n",
        "\n",
        "2.the data set be model should be consistent this concept.\n",
        "\n"
      ],
      "metadata": {
        "id": "YnstnPQOvvAp"
      }
    },
    {
      "cell_type": "code",
      "source": [
        "X=\"RAHuL\"\n",
        "print(X.lower())"
      ],
      "metadata": {
        "colab": {
          "base_uri": "https://localhost:8080/"
        },
        "id": "EprxhgAJwQBn",
        "outputId": "c57527f3-d69d-40a7-dfb0-059392bd0d52"
      },
      "execution_count": null,
      "outputs": [
        {
          "output_type": "stream",
          "name": "stdout",
          "text": [
            "rahul\n"
          ]
        }
      ]
    },
    {
      "cell_type": "markdown",
      "source": [
        "Q.reverse a string"
      ],
      "metadata": {
        "id": "M1qRAhYjtTWG"
      }
    },
    {
      "cell_type": "code",
      "source": [
        "name=\"RAHUL\"\n",
        "rev=\"\"\n",
        "for ch in name :\n",
        "  rev=ch+rev\n",
        "print(rev)"
      ],
      "metadata": {
        "colab": {
          "base_uri": "https://localhost:8080/"
        },
        "id": "7zMHFYrdtYIq",
        "outputId": "a25caf2a-035a-4574-af90-c178ca2a0fa2"
      },
      "execution_count": null,
      "outputs": [
        {
          "output_type": "stream",
          "name": "stdout",
          "text": [
            "LUHAR\n"
          ]
        }
      ]
    },
    {
      "cell_type": "code",
      "source": [
        "a=\"rahul\"\n",
        "rev=\" \"\n",
        "rev=a[ ::-1]\n",
        "print(rev)\n",
        "#a[0]=\"B\" ? why show this erro?\n",
        "#print(a)"
      ],
      "metadata": {
        "colab": {
          "base_uri": "https://localhost:8080/"
        },
        "id": "ilNtMdOuuOOL",
        "outputId": "2392b135-0bf0-4e64-a6cf-6a542df4502b"
      },
      "execution_count": null,
      "outputs": [
        {
          "output_type": "stream",
          "name": "stdout",
          "text": [
            "luhar\n"
          ]
        }
      ]
    },
    {
      "cell_type": "code",
      "source": [
        "s1=\"this is a string \"\n",
        "s2=\"this\"+\"is\"+'a'+\"string\"\n",
        "print(s2)\n",
        "s3=\"this is a \\\n",
        "           single line \"\n",
        "print(s3)\n",
        "print(\"the length of string :\",len(s3))\n",
        "print(\"first ch:\",s3[0])\n",
        "s4=\"#this is a comment\"\n",
        "s5=s4[:]\n",
        "print(s5)\n",
        "s5=s4[2:6] #-->this concept known as slicing it is used for data split their daata set into their train and test subset\n",
        "print(s5)\n",
        "name =\"rahul\"\n",
        "for ch in name : #-->when we know the character in string nut it not show the value of i .\n",
        "  print(ch,end=\"*\\n\")\n",
        "s5=\"loop\"\n",
        "for i in range(len(s5)):\n",
        "    print(-i,s5[-i])"
      ],
      "metadata": {
        "colab": {
          "base_uri": "https://localhost:8080/"
        },
        "id": "kq1F7TrPngEz",
        "outputId": "88a2782e-0c10-476f-c816-85a9c04893f4"
      },
      "execution_count": null,
      "outputs": [
        {
          "output_type": "stream",
          "name": "stdout",
          "text": [
            "thisisastring\n",
            "this is a            single line \n",
            "the length of string : 33\n",
            "first ch: t\n",
            "#this is a comment\n",
            "his \n",
            "r*\n",
            "a*\n",
            "h*\n",
            "u*\n",
            "l*\n",
            "0 l\n",
            "-1 p\n",
            "-2 o\n",
            "-3 o\n"
          ]
        }
      ]
    },
    {
      "cell_type": "markdown",
      "source": [
        "STRING are the aaray of the representing unique code character .There is no seprate data type .\n",
        "\n",
        "1.string can be created using double coma,single coma\n",
        "\n",
        "excess indivisual char using indexing 0\n",
        "\n",
        "string are inmutulate.\n",
        "\n",
        "string can be repeated by multiple times.\n",
        "\n",
        "the fn used for called string"
      ],
      "metadata": {
        "id": "JSg-AL1ck8wu"
      }
    },
    {
      "cell_type": "markdown",
      "source": [
        "1.int -use for the categorical encodings ,class id's,one hot indexing and token id's in nlp\n",
        "\n",
        "2.float:-it rapresent real world value data like features , predication ,gradient,and weights\n",
        "\n",
        "3.complex:--use to signal proccesing ,audio and image analysis,spectral methods such as FFT in EEG\n",
        "\n",
        "4.Float32/float64:--standard in deep learning fram works like pytorch and tensorflow to blance precision and memeory uses\n",
        "\n",
        "int32/int64:--usefull for labels indexing arrays/tensor and specifing sequence length"
      ],
      "metadata": {
        "id": "pTSZc3n8tAl7"
      }
    },
    {
      "cell_type": "code",
      "source": [
        "power_levels=[86,92.5,75,88.0,91]\n",
        "if power_levels:\n",
        "  avarage=sum(power_levels)/len(power_levels)\n",
        "  avarage=round(avarage,2) #round of fnction\n",
        "\n",
        "else:\n",
        "  avarage=0\n",
        "\n",
        "print(avarage)"
      ],
      "metadata": {
        "colab": {
          "base_uri": "https://localhost:8080/"
        },
        "id": "5qlKh-eLvLzr",
        "outputId": "ac71a6c4-bd51-49b0-8c59-75bbf69d04da"
      },
      "execution_count": null,
      "outputs": [
        {
          "output_type": "stream",
          "name": "stdout",
          "text": [
            "86.5\n"
          ]
        }
      ]
    },
    {
      "cell_type": "markdown",
      "source": [
        "INTERVIEW TIPS:-- never understimate input validation an empty list or incorrect data analist can colaps your algorithm."
      ],
      "metadata": {
        "id": "-sr0R8Y6z7wX"
      }
    },
    {
      "cell_type": "markdown",
      "source": [
        "DATA TYPE:--1.numeric ,2.TEXT,3.sequence,4.mapping,5.binary,6.none\n",
        "\n",
        "1.numeric:--int,float,complex\n",
        "\n",
        "            x=10,x=3.14,x=3+2j\n",
        "\n",
        "2.text:--string\n",
        "\n",
        "          x=\"rahul\"\n",
        "\n",
        "3.sequence:--list,tuple,range\n",
        "\n",
        "            x=[1,2,Rahul]\n",
        "\n",
        "4.mapping:--dict\n",
        "\n",
        "5.Binary:-- bytes,memoryview,bytesarray\n"
      ],
      "metadata": {
        "id": "frgVO-Rirx-E"
      }
    },
    {
      "cell_type": "markdown",
      "source": [
        "\n",
        "\n",
        "\n",
        "\n",
        "\n",
        "globle and local variable"
      ],
      "metadata": {
        "id": "Q8hCo1h2vE3g"
      }
    },
    {
      "cell_type": "code",
      "source": [
        "msg1=\"hii\" #<--globle variable\n",
        "def greet():\n",
        "  msg=\"hello\"\n",
        "  print(msg)\n",
        "  print(msg1)\n",
        "\n",
        "greet()\n",
        "print(\"outside local scope:\",msg1) #<--output"
      ],
      "metadata": {
        "id": "v1A4i0Nz8Sl2",
        "colab": {
          "base_uri": "https://localhost:8080/"
        },
        "outputId": "d7dd9845-92a8-4ae8-b265-dd0a61b1e0cf"
      },
      "execution_count": null,
      "outputs": [
        {
          "output_type": "stream",
          "name": "stdout",
          "text": [
            "hello\n",
            "hii\n",
            "outside local scope: hii\n"
          ]
        }
      ]
    },
    {
      "cell_type": "markdown",
      "source": [
        "swap variable\n"
      ],
      "metadata": {
        "id": "DM49y82NCOUL"
      }
    },
    {
      "cell_type": "code",
      "source": [
        "thanos_score=146\n",
        "thor_score=200\n",
        "thanos_score,thor_score=thor_score,thanos_score\n",
        "print(thanos_score,thor_score)\n"
      ],
      "metadata": {
        "colab": {
          "base_uri": "https://localhost:8080/"
        },
        "id": "w37whelGqF1L",
        "outputId": "03d02b2e-ea1c-4803-8133-bd6e9dc88c3e"
      },
      "execution_count": null,
      "outputs": [
        {
          "output_type": "stream",
          "name": "stdout",
          "text": [
            "200 146\n"
          ]
        }
      ]
    },
    {
      "cell_type": "markdown",
      "source": [
        "typcating of veairables\n"
      ],
      "metadata": {
        "id": "8XfFvi05mj9O"
      }
    },
    {
      "cell_type": "code",
      "source": [
        "val =\"10\"\n",
        "val_new=int(val)\n",
        "print(val_new)\n",
        "val1_new=str(val)\n",
        "print(val1_new)"
      ],
      "metadata": {
        "colab": {
          "base_uri": "https://localhost:8080/"
        },
        "id": "yw07pF80mlyR",
        "outputId": "57c3b81d-e814-47ae-9965-c5b19bbf1073"
      },
      "execution_count": null,
      "outputs": [
        {
          "output_type": "stream",
          "name": "stdout",
          "text": [
            "10\n",
            "10\n"
          ]
        }
      ]
    },
    {
      "cell_type": "markdown",
      "source": [
        "A.hulk strength level is recorded as a string input 1000 convert it into integer and increase by 200\n",
        "\n",
        "B. doctore strange recorde the time in second but accidently input in the form of string value is 6000 convert it in intezer and convert it into hours"
      ],
      "metadata": {
        "id": "vLTCJYdSnmE8"
      }
    },
    {
      "cell_type": "code",
      "source": [
        "hulk_strength=\"1000\"\n",
        "hulk_new=int(hulk_strength)\n",
        "print(hulk_new+200)\n",
        "dr_strange=\"6000\"\n",
        "dr_new=int(dr_strange)\n",
        "print(dr_new/60)"
      ],
      "metadata": {
        "id": "up_SWw51o2WP",
        "colab": {
          "base_uri": "https://localhost:8080/"
        },
        "outputId": "f6a72b2a-3e59-440e-e1d7-407cfe969ced"
      },
      "execution_count": null,
      "outputs": [
        {
          "output_type": "stream",
          "name": "stdout",
          "text": [
            "1200\n",
            "100.0\n"
          ]
        }
      ]
    },
    {
      "cell_type": "markdown",
      "source": [
        "C.lokii recorded seven hits out of ten shots both in integer convert them into flot and the calcute the accurecy pracentage\n"
      ],
      "metadata": {
        "id": "LaTdTVlHpBUh"
      }
    },
    {
      "cell_type": "code",
      "source": [
        "shots_total=10\n",
        "hits=7\n",
        "acc=(float(hits)/float(shots_total))*100\n",
        "print( f\"Accuracy:{acc:.2f} %\")"
      ],
      "metadata": {
        "colab": {
          "base_uri": "https://localhost:8080/"
        },
        "id": "jaAVHSfZpYAO",
        "outputId": "abcbb109-5915-4437-aeb7-5793d2d0e55e"
      },
      "execution_count": null,
      "outputs": [
        {
          "output_type": "stream",
          "name": "stdout",
          "text": [
            "Accuracy:70.00 %\n"
          ]
        }
      ]
    },
    {
      "cell_type": "markdown",
      "source": [
        "D .Thor hammer weight is 5000g in tnteze but you need calculate gravitationl force which require it is a float"
      ],
      "metadata": {
        "id": "JU_TFuMYqr8W"
      }
    },
    {
      "cell_type": "code",
      "source": [
        "thor=float('5000')\n",
        "print(thor*9.8)\n"
      ],
      "metadata": {
        "colab": {
          "base_uri": "https://localhost:8080/"
        },
        "id": "QwUIQ080Rh60",
        "outputId": "96ee380c-b8eb-4dc1-c57d-933b4d34ef00"
      },
      "execution_count": null,
      "outputs": [
        {
          "output_type": "stream",
          "name": "stdout",
          "text": [
            "49000.0\n"
          ]
        }
      ]
    },
    {
      "cell_type": "markdown",
      "source": [
        "2.reassigning a variable does not affect other variable refrencing same object unless we append this variable\n"
      ],
      "metadata": {
        "id": "WVvC-oMGqivz"
      }
    },
    {
      "cell_type": "code",
      "source": [
        "a=[1,2,3]\n",
        "b=a\n",
        "b=[4,5,6]\n",
        "print(\"a\",a)\n",
        "print(\"b\",b)\n",
        "#del a  #for free up  the memory we can use this\n",
        "print(a)"
      ],
      "metadata": {
        "colab": {
          "base_uri": "https://localhost:8080/"
        },
        "id": "RI9htISZqmMU",
        "outputId": "58f7c5b8-e960-41b8-d69a-303fbb8845cf"
      },
      "execution_count": null,
      "outputs": [
        {
          "output_type": "stream",
          "name": "stdout",
          "text": [
            "a [1, 2, 3]\n",
            "b [4, 5, 6]\n",
            "[1, 2, 3]\n"
          ]
        }
      ]
    },
    {
      "cell_type": "markdown",
      "source": [
        "object refrence"
      ],
      "metadata": {
        "id": "ayv7gUAWs5o3"
      }
    },
    {
      "cell_type": "code",
      "source": [
        "shield=[\"uibranium\",\"round\"]\n",
        "copy_shield=shield\n",
        "print(\"original shield stored:\",shield)\n",
        "print(\"wolverine changes the shield material.\")\n",
        "copy_shield[0]=\"adamantium\"\n",
        "print(\"new shield is:\",shield)"
      ],
      "metadata": {
        "id": "A39xAu0Ds_qu",
        "colab": {
          "base_uri": "https://localhost:8080/"
        },
        "outputId": "1dd21534-ffa6-4b9f-aa0b-cd2a8186d425"
      },
      "execution_count": null,
      "outputs": [
        {
          "output_type": "stream",
          "name": "stdout",
          "text": [
            "original shield stored: ['uibranium', 'round']\n",
            "wolverine changes the shield material.\n",
            "new shield is: ['adamantium', 'round']\n"
          ]
        }
      ]
    },
    {
      "cell_type": "markdown",
      "source": [
        "a=[81,82,83]\n",
        "b=[81,82,83]"
      ],
      "metadata": {
        "id": "ZQvixs5Eu_t1"
      }
    },
    {
      "cell_type": "code",
      "source": [
        "a=[81,82,83]\n",
        "b=[81,82,83]\n",
        "print(a is  b)\n",
        "print(a==b)"
      ],
      "metadata": {
        "id": "ekcmUPXJvI5H",
        "colab": {
          "base_uri": "https://localhost:8080/"
        },
        "outputId": "60402e87-7937-414a-c20b-c39fd774196f"
      },
      "execution_count": null,
      "outputs": [
        {
          "output_type": "stream",
          "name": "stdout",
          "text": [
            "True\n",
            "True\n"
          ]
        }
      ]
    },
    {
      "cell_type": "markdown",
      "source": [
        "Q.string operation"
      ],
      "metadata": {
        "id": "_hILgUOjDH9k"
      }
    },
    {
      "cell_type": "code",
      "source": [
        "X=\"hEllo\"\n",
        "print(X.upper())\n",
        "print(X.lower())\n",
        "print(X.replace('o','O'))\n",
        "print(X[1:5])\n",
        "print(X.title())\n",
        "print(X.swapcase())\n",
        "print(\"8.\",X.capitalize())\n",
        "\n",
        "print(X.count('l'))\n",
        "print(\"11.\",X.casefold())\n",
        "print(X.center(50))\n",
        "\n"
      ],
      "metadata": {
        "id": "pw_qB1y_DOFG",
        "colab": {
          "base_uri": "https://localhost:8080/"
        },
        "outputId": "ac10863b-fcfa-46a3-d0bd-44cffc61b34f"
      },
      "execution_count": null,
      "outputs": [
        {
          "output_type": "stream",
          "name": "stdout",
          "text": [
            "HELLO\n",
            "hello\n",
            "hEllO\n",
            "Ello\n",
            "Hello\n",
            "HeLLO\n",
            "8. Hello\n",
            "2\n",
            "11. hello\n",
            "                      hEllo                       \n"
          ]
        }
      ]
    },
    {
      "cell_type": "markdown",
      "source": [
        "AVARAGE FIND\n"
      ],
      "metadata": {
        "id": "G-mz0c3M-kvZ"
      }
    },
    {
      "cell_type": "code",
      "source": [
        "import statistics\n",
        "powerlevel={\"Iron_man\":98,\"Hulk\":100}\n",
        "              #KEY    VALUE\n",
        "avg_level=statistics.mean(powerlevel.values())\n",
        "print(avg_level)\n"
      ],
      "metadata": {
        "id": "nYQENYL71ksO"
      },
      "execution_count": null,
      "outputs": []
    },
    {
      "cell_type": "markdown",
      "source": [
        "INTERVIEW TIPS:-\n",
        "\n",
        "1.Dictionry vs list:-dic. is best when data can be mapped.List works when order aor sequence matters.\n",
        "\n",
        "2.Efficiency:--compute the avarage in one pass using built in function or libraries.\n",
        "\n",
        "3.keep the time complexity in the mind."
      ],
      "metadata": {
        "id": "rOH4ei2Q3-Zr"
      }
    },
    {
      "cell_type": "markdown",
      "source": [
        "  Q.1 WRITE the python program to find largest and smallest in list."
      ],
      "metadata": {
        "id": "nW53Qsmw_Af1"
      }
    },
    {
      "cell_type": "code",
      "source": [
        "num=[4,7,1,9,12,3]\n",
        "min=max=num[0]\n",
        "for n in num:\n",
        "  if n<min:\n",
        "    min=n\n",
        "  if n>max:\n",
        "    max=n\n",
        "print(f\"max is{max}and min is {min}\")"
      ],
      "metadata": {
        "id": "CpaseAQX_b7M",
        "colab": {
          "base_uri": "https://localhost:8080/"
        },
        "outputId": "1a762bcd-0613-4cba-a230-27a011981473"
      },
      "execution_count": null,
      "outputs": [
        {
          "output_type": "stream",
          "name": "stdout",
          "text": [
            "max is12and min is 1\n"
          ]
        }
      ]
    },
    {
      "cell_type": "markdown",
      "source": [
        "Q.2 ROTATE a list to the right by K step."
      ],
      "metadata": {
        "id": "39JbgR5f_MAS"
      }
    },
    {
      "cell_type": "code",
      "source": [
        "num=[1,2,3,4,5]\n",
        "k=2\n",
        "k=k%len(num)\n",
        "rotated=num[-k: ]+num[ :-k]\n",
        "print(rotated)"
      ],
      "metadata": {
        "id": "k13jzLIWCK8L",
        "colab": {
          "base_uri": "https://localhost:8080/"
        },
        "outputId": "3f5c3247-8916-4c24-d0c9-8cdc34ed15fc"
      },
      "execution_count": null,
      "outputs": [
        {
          "output_type": "stream",
          "name": "stdout",
          "text": [
            "[4, 5, 1, 2, 3]\n"
          ]
        }
      ]
    }
  ],
  "metadata": {
    "colab": {
      "provenance": [],
      "include_colab_link": true
    },
    "kernelspec": {
      "display_name": "Python 3",
      "name": "python3"
    }
  },
  "nbformat": 4,
  "nbformat_minor": 0
}